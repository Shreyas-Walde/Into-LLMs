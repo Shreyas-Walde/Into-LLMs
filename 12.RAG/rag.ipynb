{
 "cells": [
  {
   "cell_type": "markdown",
   "id": "177c9728",
   "metadata": {},
   "source": [
    "##### Installing Libraries"
   ]
  },
  {
   "cell_type": "code",
   "execution_count": 5,
   "id": "29481d19",
   "metadata": {},
   "outputs": [
    {
     "name": "stdout",
     "output_type": "stream",
     "text": [
      "Note: you may need to restart the kernel to use updated packages.\n"
     ]
    }
   ],
   "source": [
    "%pip install -q youtube-transcript-api langchain-community langchain-openai faiss-cpu tiktoken python-dotenv sentence-transformers"
   ]
  },
  {
   "cell_type": "code",
   "execution_count": 6,
   "id": "3a03dfc7",
   "metadata": {},
   "outputs": [],
   "source": [
    "from youtube_transcript_api import YouTubeTranscriptApi, TranscriptsDisabled\n",
    "from langchain.text_splitter import RecursiveCharacterTextSplitter\n",
    "from langchain_openai import OpenAIEmbeddings, ChatOpenAI\n",
    "from langchain_community.vectorstores import FAISS\n",
    "from langchain_core.prompts import PromptTemplate\n",
    "\n",
    "from sentence_transformers import SentenceTransformer # embeddings"
   ]
  },
  {
   "cell_type": "code",
   "execution_count": null,
   "id": "8f09a2a6",
   "metadata": {},
   "outputs": [],
   "source": []
  }
 ],
 "metadata": {
  "kernelspec": {
   "display_name": "venv",
   "language": "python",
   "name": "python3"
  },
  "language_info": {
   "codemirror_mode": {
    "name": "ipython",
    "version": 3
   },
   "file_extension": ".py",
   "mimetype": "text/x-python",
   "name": "python",
   "nbconvert_exporter": "python",
   "pygments_lexer": "ipython3",
   "version": "3.11.4"
  }
 },
 "nbformat": 4,
 "nbformat_minor": 5
}
