{
 "cells": [
  {
   "cell_type": "markdown",
   "id": "a7e64f23",
   "metadata": {},
   "source": [
    "### 2. Structured Tool \n",
    " - using *Pydantic*"
   ]
  },
  {
   "cell_type": "code",
   "execution_count": 6,
   "id": "99ec8fef",
   "metadata": {},
   "outputs": [],
   "source": [
    "from langchain.tools import StructuredTool\n",
    "from pydantic import BaseModel, Field"
   ]
  },
  {
   "cell_type": "code",
   "execution_count": 7,
   "id": "94aad9cc",
   "metadata": {},
   "outputs": [],
   "source": [
    "class MultiplyInput(BaseModel):\n",
    "    a:int = Field(required=True, description=\"the first number to add\")\n",
    "    b:int = Field(required=True, description=\"the second number to add\")"
   ]
  },
  {
   "cell_type": "code",
   "execution_count": 8,
   "id": "974c43f4",
   "metadata": {},
   "outputs": [],
   "source": [
    "def multipy_func(a: int, b: int) -> int:\n",
    "    return a*b"
   ]
  },
  {
   "cell_type": "code",
   "execution_count": 9,
   "id": "2cf31958",
   "metadata": {},
   "outputs": [],
   "source": [
    "multiply_tool = StructuredTool.from_function(\n",
    "    func=multipy_func,\n",
    "    name=\"multiply\",\n",
    "    description=\"Multiply two numbers\",\n",
    "    args_schema=MultiplyInput\n",
    ")"
   ]
  },
  {
   "cell_type": "code",
   "execution_count": 10,
   "id": "84aed68e",
   "metadata": {},
   "outputs": [
    {
     "name": "stdout",
     "output_type": "stream",
     "text": [
      "15\n",
      "multiply\n",
      "Multiply two numbers\n"
     ]
    }
   ],
   "source": [
    "result = multiply_tool.invoke({'a':3,'b':5})\n",
    "print(result)\n",
    "print(multiply_tool.name)\n",
    "print(multiply_tool.description)"
   ]
  },
  {
   "cell_type": "code",
   "execution_count": null,
   "id": "d08c999d",
   "metadata": {},
   "outputs": [],
   "source": []
  }
 ],
 "metadata": {
  "kernelspec": {
   "display_name": "venv",
   "language": "python",
   "name": "python3"
  },
  "language_info": {
   "codemirror_mode": {
    "name": "ipython",
    "version": 3
   },
   "file_extension": ".py",
   "mimetype": "text/x-python",
   "name": "python",
   "nbconvert_exporter": "python",
   "pygments_lexer": "ipython3",
   "version": "3.11.4"
  }
 },
 "nbformat": 4,
 "nbformat_minor": 5
}
