{
 "cells": [
  {
   "cell_type": "code",
   "execution_count": 30,
   "id": "f2ce3503",
   "metadata": {},
   "outputs": [],
   "source": [
    "from abc import ABC, abstractclassmethod"
   ]
  },
  {
   "cell_type": "code",
   "execution_count": 31,
   "id": "9cf4980d",
   "metadata": {},
   "outputs": [],
   "source": [
    "class Runnable(ABC):\n",
    "    def invoke(input_data):\n",
    "        pass"
   ]
  },
  {
   "cell_type": "code",
   "execution_count": 32,
   "id": "c0be20e1",
   "metadata": {},
   "outputs": [],
   "source": [
    "import random \n",
    "\n",
    "class FakeLLM(Runnable): \n",
    "    \n",
    "    def __init__(self):\n",
    "        print('LLM Created')\n",
    "\n",
    "    def invoke(self, prompt):\n",
    "        response_list = [\n",
    "        'Eve is a Pokemon',\n",
    "        'Dandelions is a flower',\n",
    "        'Kyuushuu means 9 province'\n",
    "    ]\n",
    "        # return random.choice(response_list)\n",
    "        return {'response': random.choice(response_list)}\n",
    "\n",
    "\n",
    "    def predict(self,prompt):   \n",
    "\n",
    "        response_list = [\n",
    "        'Eve is a Pokemon',\n",
    "        'Dandelions is a flower',\n",
    "        'Kyuushuu means 9 province'\n",
    "    ]\n",
    "        # return random.choice(response_list)\n",
    "        return {'response': random.choice(response_list)}"
   ]
  },
  {
   "cell_type": "code",
   "execution_count": 33,
   "id": "e571d25d",
   "metadata": {},
   "outputs": [
    {
     "name": "stdout",
     "output_type": "stream",
     "text": [
      "LLM Created\n"
     ]
    }
   ],
   "source": [
    "llm = FakeLLM()"
   ]
  },
  {
   "cell_type": "code",
   "execution_count": 34,
   "id": "eda40a11",
   "metadata": {},
   "outputs": [],
   "source": [
    "class FakePromptTemplate(Runnable):\n",
    "\n",
    "    def __init__(self, template, input_variables):\n",
    "        self.template = template\n",
    "        self.input_variables = input_variables\n",
    "\n",
    "    def invoke(self,input_dict):\n",
    "        return self.template.format(**input_dict)\n",
    "\n",
    "    def format(self, input_dict):\n",
    "        return self.template.format(**input_dict)  #unpacking input dict  "
   ]
  },
  {
   "cell_type": "code",
   "execution_count": 35,
   "id": "4898f9a6",
   "metadata": {},
   "outputs": [],
   "source": [
    "class FakeStrOutputParser(Runnable):\n",
    "    def __init__(self):\n",
    "        pass\n",
    "    def invoke(self,input_data):\n",
    "        return input_data['response']"
   ]
  },
  {
   "cell_type": "code",
   "execution_count": 36,
   "id": "ec6085a3",
   "metadata": {},
   "outputs": [],
   "source": [
    "class RunnableConnector(Runnable):   # Abstract Class\n",
    "    \n",
    "    def __init__(self, runnable_list):\n",
    "        self.runnable_list = runnable_list\n",
    "\n",
    "    def invoke(self, input_data):\n",
    "\n",
    "        for runnable in self.runnable_list:\n",
    "            input_data = runnable.invoke(input_data)   # saving output\n",
    "\n",
    "        return input_data\n"
   ]
  },
  {
   "cell_type": "code",
   "execution_count": 37,
   "id": "12abd42f",
   "metadata": {},
   "outputs": [],
   "source": [
    "template = FakePromptTemplate(\n",
    "    template='write a {length} poem on {topic}',\n",
    "    input_variables=['length','topic']\n",
    ")"
   ]
  },
  {
   "cell_type": "code",
   "execution_count": 38,
   "id": "e9c4bf23",
   "metadata": {},
   "outputs": [
    {
     "name": "stdout",
     "output_type": "stream",
     "text": [
      "LLM Created\n"
     ]
    }
   ],
   "source": [
    "llm = FakeLLM()"
   ]
  },
  {
   "cell_type": "code",
   "execution_count": 39,
   "id": "b64e17f0",
   "metadata": {},
   "outputs": [],
   "source": [
    "parser = FakeStrOutputParser()  # made parser to extract text"
   ]
  },
  {
   "cell_type": "code",
   "execution_count": 40,
   "id": "e8cd8956",
   "metadata": {},
   "outputs": [],
   "source": [
    "chain = RunnableConnector([template, llm, parser])"
   ]
  },
  {
   "cell_type": "code",
   "execution_count": 17,
   "id": "1fe1b2dd",
   "metadata": {},
   "outputs": [
    {
     "data": {
      "text/plain": [
       "'Kyuushuu means 9 province'"
      ]
     },
     "execution_count": 17,
     "metadata": {},
     "output_type": "execute_result"
    }
   ],
   "source": [
    "chain.invoke({'length':'long', 'topic': 'Park'})"
   ]
  },
  {
   "cell_type": "code",
   "execution_count": 19,
   "id": "c63c7f4a",
   "metadata": {},
   "outputs": [],
   "source": [
    "template1 = FakePromptTemplate(\n",
    "    template='Wrirte a joke about {topic}',\n",
    "    input_variables=['topic']\n",
    ")"
   ]
  },
  {
   "cell_type": "code",
   "execution_count": 20,
   "id": "de19223c",
   "metadata": {},
   "outputs": [],
   "source": [
    "template2 = FakePromptTemplate(\n",
    "    template='Explain the following joke {response}',\n",
    "    input_variables=['response']\n",
    ")"
   ]
  },
  {
   "cell_type": "code",
   "execution_count": 21,
   "id": "9673bb4c",
   "metadata": {},
   "outputs": [
    {
     "name": "stdout",
     "output_type": "stream",
     "text": [
      "LLM Created\n"
     ]
    }
   ],
   "source": [
    "llm = FakeLLM()"
   ]
  },
  {
   "cell_type": "code",
   "execution_count": 22,
   "id": "b91059d4",
   "metadata": {},
   "outputs": [],
   "source": [
    "parser = FakeStrOutputParser"
   ]
  },
  {
   "cell_type": "code",
   "execution_count": 23,
   "id": "354b2d79",
   "metadata": {},
   "outputs": [],
   "source": [
    "chain1 = RunnableConnector([template1, llm])"
   ]
  },
  {
   "cell_type": "code",
   "execution_count": 41,
   "id": "e6eff8ca",
   "metadata": {},
   "outputs": [
    {
     "data": {
      "text/plain": [
       "{'response': 'Kyuushuu means 9 province'}"
      ]
     },
     "execution_count": 41,
     "metadata": {},
     "output_type": "execute_result"
    }
   ],
   "source": [
    "chain1.invoke({'topic': 'AI'})  # invoking custom chain"
   ]
  },
  {
   "cell_type": "code",
   "execution_count": 42,
   "id": "2d7e0af9",
   "metadata": {},
   "outputs": [],
   "source": [
    "chain2 = RunnableConnector([template2,llm,parser])"
   ]
  },
  {
   "cell_type": "code",
   "execution_count": 28,
   "id": "b3ff9f0e",
   "metadata": {},
   "outputs": [],
   "source": [
    "final_chain = RunnableConnector([chain1, chain2])"
   ]
  },
  {
   "cell_type": "code",
   "execution_count": 29,
   "id": "f26ac7c5",
   "metadata": {},
   "outputs": [
    {
     "ename": "TypeError",
     "evalue": "FakeStrOutputParser.invoke() missing 1 required positional argument: 'input_data'",
     "output_type": "error",
     "traceback": [
      "\u001b[31m---------------------------------------------------------------------------\u001b[39m",
      "\u001b[31mTypeError\u001b[39m                                 Traceback (most recent call last)",
      "\u001b[36mCell\u001b[39m\u001b[36m \u001b[39m\u001b[32mIn[29]\u001b[39m\u001b[32m, line 1\u001b[39m\n\u001b[32m----> \u001b[39m\u001b[32m1\u001b[39m \u001b[43mfinal_chain\u001b[49m\u001b[43m.\u001b[49m\u001b[43minvoke\u001b[49m\u001b[43m(\u001b[49m\u001b[43m{\u001b[49m\u001b[33;43m'\u001b[39;49m\u001b[33;43mtopic\u001b[39;49m\u001b[33;43m'\u001b[39;49m\u001b[43m:\u001b[49m\u001b[33;43m'\u001b[39;49m\u001b[33;43mbaseball\u001b[39;49m\u001b[33;43m'\u001b[39;49m\u001b[43m}\u001b[49m\u001b[43m)\u001b[49m\n",
      "\u001b[36mCell\u001b[39m\u001b[36m \u001b[39m\u001b[32mIn[6]\u001b[39m\u001b[32m, line 9\u001b[39m, in \u001b[36mRunnableConnector.invoke\u001b[39m\u001b[34m(self, input_data)\u001b[39m\n\u001b[32m      6\u001b[39m \u001b[38;5;28;01mdef\u001b[39;00m\u001b[38;5;250m \u001b[39m\u001b[34minvoke\u001b[39m(\u001b[38;5;28mself\u001b[39m, input_data):\n\u001b[32m      8\u001b[39m     \u001b[38;5;28;01mfor\u001b[39;00m runnable \u001b[38;5;129;01min\u001b[39;00m \u001b[38;5;28mself\u001b[39m.runnable_list:\n\u001b[32m----> \u001b[39m\u001b[32m9\u001b[39m         input_data = \u001b[43mrunnable\u001b[49m\u001b[43m.\u001b[49m\u001b[43minvoke\u001b[49m\u001b[43m(\u001b[49m\u001b[43minput_data\u001b[49m\u001b[43m)\u001b[49m   \u001b[38;5;66;03m# saving output\u001b[39;00m\n\u001b[32m     11\u001b[39m     \u001b[38;5;28;01mreturn\u001b[39;00m input_data\n",
      "\u001b[36mCell\u001b[39m\u001b[36m \u001b[39m\u001b[32mIn[6]\u001b[39m\u001b[32m, line 9\u001b[39m, in \u001b[36mRunnableConnector.invoke\u001b[39m\u001b[34m(self, input_data)\u001b[39m\n\u001b[32m      6\u001b[39m \u001b[38;5;28;01mdef\u001b[39;00m\u001b[38;5;250m \u001b[39m\u001b[34minvoke\u001b[39m(\u001b[38;5;28mself\u001b[39m, input_data):\n\u001b[32m      8\u001b[39m     \u001b[38;5;28;01mfor\u001b[39;00m runnable \u001b[38;5;129;01min\u001b[39;00m \u001b[38;5;28mself\u001b[39m.runnable_list:\n\u001b[32m----> \u001b[39m\u001b[32m9\u001b[39m         input_data = \u001b[43mrunnable\u001b[49m\u001b[43m.\u001b[49m\u001b[43minvoke\u001b[49m\u001b[43m(\u001b[49m\u001b[43minput_data\u001b[49m\u001b[43m)\u001b[49m   \u001b[38;5;66;03m# saving output\u001b[39;00m\n\u001b[32m     11\u001b[39m     \u001b[38;5;28;01mreturn\u001b[39;00m input_data\n",
      "\u001b[31mTypeError\u001b[39m: FakeStrOutputParser.invoke() missing 1 required positional argument: 'input_data'"
     ]
    }
   ],
   "source": [
    "final_chain.invoke({'topic':'baseball'})"
   ]
  },
  {
   "cell_type": "code",
   "execution_count": null,
   "id": "f645ba19",
   "metadata": {},
   "outputs": [],
   "source": []
  }
 ],
 "metadata": {
  "kernelspec": {
   "display_name": "venv",
   "language": "python",
   "name": "python3"
  },
  "language_info": {
   "codemirror_mode": {
    "name": "ipython",
    "version": 3
   },
   "file_extension": ".py",
   "mimetype": "text/x-python",
   "name": "python",
   "nbconvert_exporter": "python",
   "pygments_lexer": "ipython3",
   "version": "3.11.4"
  }
 },
 "nbformat": 4,
 "nbformat_minor": 5
}
