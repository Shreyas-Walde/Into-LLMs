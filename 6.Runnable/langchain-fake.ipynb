{
 "cells": [
  {
   "cell_type": "code",
   "execution_count": 2,
   "id": "82584f5e",
   "metadata": {},
   "outputs": [],
   "source": [
    "import random \n",
    "\n",
    "class FakeLLM: \n",
    "    def __init__(self):\n",
    "        print('LLM Created')\n",
    "\n",
    "    def predict(self,prompt):    \n",
    "        response_list = [\n",
    "        'Eve is a Pokemon',\n",
    "        'Dandelions is a flower',\n",
    "        'Kyuushuu means 9 province'\n",
    "    ]\n",
    "        # return random.choice(response_list)\n",
    "        return {'response': random.choice(response_list)}"
   ]
  },
  {
   "cell_type": "code",
   "execution_count": 3,
   "id": "3301790d",
   "metadata": {},
   "outputs": [
    {
     "name": "stdout",
     "output_type": "stream",
     "text": [
      "LLM Created\n"
     ]
    }
   ],
   "source": [
    "llm = FakeLLM()"
   ]
  },
  {
   "cell_type": "code",
   "execution_count": 4,
   "id": "8ebb1ddc",
   "metadata": {},
   "outputs": [],
   "source": [
    "class FakePromptTemplate:\n",
    "\n",
    "    def __init__(self, template, input_variables):\n",
    "        self.template = template\n",
    "        self.input_variables = input_variables\n",
    "\n",
    "    def format(self, input_dict):\n",
    "        return self.template.format(**input_dict)  #unpacking input dict  "
   ]
  },
  {
   "cell_type": "code",
   "execution_count": 5,
   "id": "d2cff98a",
   "metadata": {},
   "outputs": [],
   "source": [
    "template = FakePromptTemplate(\n",
    "    template='write a {length} poem on {topic}',\n",
    "    input_variables=['length','topic']\n",
    ")"
   ]
  },
  {
   "cell_type": "code",
   "execution_count": 6,
   "id": "5f217d4d",
   "metadata": {},
   "outputs": [],
   "source": [
    "prompt = template.format({'length':'short','topic':'pokemon'})   "
   ]
  },
  {
   "cell_type": "code",
   "execution_count": 7,
   "id": "cfcaa16f",
   "metadata": {},
   "outputs": [
    {
     "name": "stdout",
     "output_type": "stream",
     "text": [
      "LLM Created\n"
     ]
    }
   ],
   "source": [
    "llm = FakeLLM()  \n"
   ]
  },
  {
   "cell_type": "code",
   "execution_count": 8,
   "id": "635f3463",
   "metadata": {},
   "outputs": [
    {
     "data": {
      "text/plain": [
       "{'response': 'Dandelions is a flower'}"
      ]
     },
     "execution_count": 8,
     "metadata": {},
     "output_type": "execute_result"
    }
   ],
   "source": [
    "llm.predict(prompt)"
   ]
  },
  {
   "cell_type": "code",
   "execution_count": 1,
   "id": "96073c3b",
   "metadata": {},
   "outputs": [],
   "source": [
    "class FakeLLMChain:\n",
    "\n",
    "  def __init__(self, llm, prompt):\n",
    "    self.llm = llm\n",
    "    self.prompt = prompt\n",
    "\n",
    "  def run(self, input_dict):\n",
    "\n",
    "    final_prompt = self.prompt.format(input_dict)\n",
    "    result = self.llm.predict(final_prompt)\n",
    "\n",
    "    return result['response']\n"
   ]
  },
  {
   "cell_type": "code",
   "execution_count": 9,
   "id": "6b30bfe0",
   "metadata": {},
   "outputs": [],
   "source": [
    "template = FakePromptTemplate(\n",
    "    template='write a {length} poem on {topic}',\n",
    "    input_variables=['length','topic']\n",
    ")"
   ]
  },
  {
   "cell_type": "code",
   "execution_count": 10,
   "id": "d5a54792",
   "metadata": {},
   "outputs": [
    {
     "name": "stdout",
     "output_type": "stream",
     "text": [
      "LLM Created\n"
     ]
    }
   ],
   "source": [
    "llm = FakeLLM()"
   ]
  },
  {
   "cell_type": "code",
   "execution_count": 11,
   "id": "64f5d771",
   "metadata": {},
   "outputs": [],
   "source": [
    "chain = FakeLLMChain(llm, template)"
   ]
  },
  {
   "cell_type": "code",
   "execution_count": 12,
   "id": "f5f7e4b7",
   "metadata": {},
   "outputs": [
    {
     "data": {
      "text/plain": [
       "'Eve is a Pokemon'"
      ]
     },
     "execution_count": 12,
     "metadata": {},
     "output_type": "execute_result"
    }
   ],
   "source": [
    "chain.run({'length':'short', 'topic':'pokemon'})"
   ]
  },
  {
   "cell_type": "code",
   "execution_count": null,
   "id": "72e8aea8",
   "metadata": {},
   "outputs": [],
   "source": []
  }
 ],
 "metadata": {
  "kernelspec": {
   "display_name": "venv",
   "language": "python",
   "name": "python3"
  },
  "language_info": {
   "codemirror_mode": {
    "name": "ipython",
    "version": 3
   },
   "file_extension": ".py",
   "mimetype": "text/x-python",
   "name": "python",
   "nbconvert_exporter": "python",
   "pygments_lexer": "ipython3",
   "version": "3.11.4"
  }
 },
 "nbformat": 4,
 "nbformat_minor": 5
}
