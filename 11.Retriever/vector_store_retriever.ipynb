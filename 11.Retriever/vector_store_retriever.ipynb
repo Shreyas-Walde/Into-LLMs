{
 "cells": [
  {
   "cell_type": "markdown",
   "id": "dc2f4f1b",
   "metadata": {},
   "source": [
    "# 1.Vector Store Retriever"
   ]
  },
  {
   "cell_type": "code",
   "execution_count": 5,
   "id": "dce8abba",
   "metadata": {},
   "outputs": [],
   "source": [
    "from langchain_community.vectorstores import Chroma\n",
    "from langchain_google_genai import GoogleGenerativeAIEmbeddings\n",
    "from langchain_core.documents import Document"
   ]
  },
  {
   "cell_type": "code",
   "execution_count": 6,
   "id": "261be746",
   "metadata": {},
   "outputs": [],
   "source": [
    "# Step 1: Your source code docs\n",
    "documents = [\n",
    "    Document(page_content=\"LangChain helps developers build LLM applications easily.\"),\n",
    "    Document(page_content=\"Chroma is a vector database optimized for LLM-based search.\"),\n",
    "    Document(page_content=\"Embeddings convert text into high-dimensional vectors.\"),\n",
    "    Document(page_content=\"OpenAI provides powerful embedding models.\"),\n",
    "]"
   ]
  },
  {
   "cell_type": "code",
   "execution_count": 7,
   "id": "7d33d4c0",
   "metadata": {},
   "outputs": [],
   "source": [
    "# Initialize embedding model\n",
    "embedding_model = GoogleGenerativeAIEmbeddings(model=\"models/gemini-embedding-001\")\n",
    "\n",
    "\n",
    "# Step 3: Create Chroma vector store in memory\n",
    "vectorstore = Chroma.from_documents(\n",
    "    documents=documents,\n",
    "    embedding=embedding_model,\n",
    "    collection_name=\"my_collection\"\n",
    ")"
   ]
  },
  {
   "cell_type": "code",
   "execution_count": 9,
   "id": "b4bc49a1",
   "metadata": {},
   "outputs": [],
   "source": [
    "# Convert vectorstore into a retriever\n",
    "retriever = vectorstore.as_retriever(search_kwargs={\"k\": 2})"
   ]
  },
  {
   "cell_type": "code",
   "execution_count": null,
   "id": "8edaa724",
   "metadata": {},
   "outputs": [],
   "source": [
    "query= \"words converted into embeddings are called?\"\n",
    "results = retriever.invoke(query)  # runnable object can be run in chain"
   ]
  },
  {
   "cell_type": "code",
   "execution_count": 13,
   "id": "5a3bffb3",
   "metadata": {},
   "outputs": [
    {
     "name": "stdout",
     "output_type": "stream",
     "text": [
      "\n",
      "--- Result 1 ---\n",
      "Embeddings convert text into high-dimensional vectors.\n",
      "\n",
      "--- Result 2 ---\n",
      "OpenAI provides powerful embedding models.\n"
     ]
    }
   ],
   "source": [
    "for i,doc in enumerate(results):\n",
    "    print(f\"\\n--- Result {i+1} ---\")\n",
    "    print(doc.page_content)"
   ]
  },
  {
   "cell_type": "code",
   "execution_count": 14,
   "id": "8f61b268",
   "metadata": {},
   "outputs": [],
   "source": [
    "# or \n",
    "results = vectorstore.similarity_search(query,k=2)"
   ]
  },
  {
   "cell_type": "code",
   "execution_count": 15,
   "id": "075448fe",
   "metadata": {},
   "outputs": [
    {
     "name": "stdout",
     "output_type": "stream",
     "text": [
      "\n",
      "--- Result 1 ---\n",
      "Embeddings convert text into high-dimensional vectors.\n",
      "\n",
      "--- Result 2 ---\n",
      "OpenAI provides powerful embedding models.\n"
     ]
    }
   ],
   "source": [
    "for i,doc in enumerate(results):\n",
    "    print(f\"\\n--- Result {i+1} ---\")\n",
    "    print(doc.page_content)"
   ]
  },
  {
   "cell_type": "markdown",
   "id": "6f5b4b4b",
   "metadata": {},
   "source": []
  },
  {
   "cell_type": "markdown",
   "id": "7d12fec2",
   "metadata": {},
   "source": [
    "# 2.MMR"
   ]
  },
  {
   "cell_type": "code",
   "execution_count": 27,
   "id": "1e332877",
   "metadata": {},
   "outputs": [],
   "source": [
    "# sample docuements\n",
    "docs = [\n",
    "    Document(page_content=\"LangChain makes it easy to work with LLMs.\"),\n",
    "    Document(page_content=\"LangChain is used to build LLM based applications.\"),\n",
    "    Document(page_content=\"Chroma is used to store and search document embeddings.\"),\n",
    "    Document(page_content=\"Embeddings are vector representations of text.\"),\n",
    "    Document(page_content=\"MMR helps you get diverse results when doing similarity search.\"),\n",
    "    Document(page_content=\"LangChain supports Chroma, FAISS, Pinecone, and more.\"),\n",
    "]"
   ]
  },
  {
   "cell_type": "code",
   "execution_count": null,
   "id": "3d4f8590",
   "metadata": {},
   "outputs": [],
   "source": [
    "from langchain_community.vectorstores import FAISS   # vector store from Meta (facebook)\n",
    "\n",
    "# Initialize Gemini embeddings\n",
    "embedding_model = GoogleGenerativeAIEmbeddings(model=\"models/gemini-embedding-001\")\n",
    "\n",
    "# Create the FAISS vector_store from documents\n",
    "vectorstore = FAISS.from_documents(\n",
    "    documents=docs,\n",
    "    embedding=embedding_model\n",
    ")"
   ]
  },
  {
   "cell_type": "code",
   "execution_count": 29,
   "id": "daf5a9d5",
   "metadata": {},
   "outputs": [],
   "source": [
    "# Enable MMR in the Retriever\n",
    "retriever = vectorstore.as_retriever(\n",
    "    search_type=\"mmr\",\n",
    "    search_kwargs={\"k\":3, \"lambda_mult\":0.5} # k = top results, lambda_mult = relevance-diversity balance\n",
    ")"
   ]
  },
  {
   "cell_type": "code",
   "execution_count": 30,
   "id": "1fefdec9",
   "metadata": {},
   "outputs": [],
   "source": [
    "query = \"What is Langchain?\"\n",
    "results = retriever.invoke(query)"
   ]
  },
  {
   "cell_type": "code",
   "execution_count": null,
   "id": "ff26351b",
   "metadata": {},
   "outputs": [
    {
     "name": "stdout",
     "output_type": "stream",
     "text": [
      "\n",
      " --- Result 1 ---\n",
      "LangChain is used to build LLM based applications.\n",
      "\n",
      " --- Result 2 ---\n",
      "MMR helps you get diverse results when doing similarity search.\n",
      "\n",
      " --- Result 3 ---\n",
      "LangChain supports Chroma, FAISS, Pinecone, and more.\n"
     ]
    }
   ],
   "source": [
    "for i, doc in enumerate(results):\n",
    "    print(f\"\\n --- Result {i+1} ---\")\n",
    "    print(doc.page_content)"
   ]
  },
  {
   "cell_type": "code",
   "execution_count": null,
   "id": "aca96e49",
   "metadata": {},
   "outputs": [],
   "source": []
  },
  {
   "cell_type": "markdown",
   "id": "38ac22ac",
   "metadata": {},
   "source": [
    "# 2.2 MMR - Maximum Marginal Relevance\n",
    "#### - Using HuggingFace Embeddings!"
   ]
  },
  {
   "cell_type": "code",
   "execution_count": null,
   "id": "74b22f83",
   "metadata": {},
   "outputs": [
    {
     "data": {
      "text/plain": [
       "True"
      ]
     },
     "execution_count": 35,
     "metadata": {},
     "output_type": "execute_result"
    }
   ],
   "source": [
    "from langchain_community.vectorstores import FAISS\n",
    "\n",
    "from langchain_huggingface import HuggingFaceEmbeddings, HuggingFaceEndpointEmbeddings\n",
    "# from langchain_huggingface import ChatHuggingFace, HuggingFaceEndpoint\n",
    "\n",
    "# from langchain_google_genai import GoogleGenerativeAIEmbeddings\n",
    "# from langchain_openai import OpenAIEmbeddings\n",
    "# from langchain_google_genai import ChatGoogleGenerativeAI\n",
    "\n",
    "from langchain.retrievers.multi_query import MultiQueryRetriever\n",
    "from dotenv import load_dotenv\n",
    "load_dotenv()"
   ]
  },
  {
   "cell_type": "code",
   "execution_count": 37,
   "id": "42da0215",
   "metadata": {},
   "outputs": [],
   "source": [
    "# sample docuements\n",
    "docs = [\n",
    "    Document(page_content=\"LangChain makes it easy to work with LLMs.\"),\n",
    "    Document(page_content=\"LangChain is used to build LLM based applications.\"),\n",
    "    Document(page_content=\"Chroma is used to store and search document embeddings.\"),\n",
    "    Document(page_content=\"Embeddings are vector representations of text.\"),\n",
    "    Document(page_content=\"MMR helps you get diverse results when doing similarity search.\"),\n",
    "    Document(page_content=\"LangChain supports Chroma, FAISS, Pinecone, and more.\"),\n",
    "]"
   ]
  },
  {
   "cell_type": "code",
   "execution_count": 38,
   "id": "00ceb834",
   "metadata": {},
   "outputs": [],
   "source": [
    "# llm=HuggingFaceEndpoint(\n",
    "#     repo_id=\"google/gemma-2-2b-it\",     #For MQR if required a llm and if wanted to used gemma.\n",
    "#     task=\"text-generation\"\n",
    "# )\n",
    "# model1 = ChatHuggingFace(llm=llm)\n",
    "\n",
    "embeddings = HuggingFaceEndpointEmbeddings(repo_id=\"sentence-transformers/all-MiniLM-L6-v2\")\n",
    "\n",
    "# Create the FAISS vector_store from documents\n",
    "vectorstore = FAISS.from_documents(\n",
    "    documents=docs,\n",
    "    embedding=embedding_model\n",
    ")"
   ]
  },
  {
   "cell_type": "code",
   "execution_count": 39,
   "id": "0b78a3dc",
   "metadata": {},
   "outputs": [],
   "source": [
    "retriever = vectorstore.as_retriever(\n",
    "    search_type=\"mmr\",\n",
    "    search_kwargs={\"k\":3, \"lambda_mult\":0.5}\n",
    ")"
   ]
  },
  {
   "cell_type": "code",
   "execution_count": 40,
   "id": "82a093fd",
   "metadata": {},
   "outputs": [],
   "source": [
    "query = \"What is Langchain?\"\n",
    "results = retriever.invoke(query)"
   ]
  },
  {
   "cell_type": "code",
   "execution_count": 42,
   "id": "bd834564",
   "metadata": {},
   "outputs": [
    {
     "name": "stdout",
     "output_type": "stream",
     "text": [
      "\n",
      " --- Result 1 ---\n",
      "LangChain is used to build LLM based applications.\n",
      "\n",
      " --- Result 2 ---\n",
      "MMR helps you get diverse results when doing similarity search.\n",
      "\n",
      " --- Result 3 ---\n",
      "LangChain supports Chroma, FAISS, Pinecone, and more.\n"
     ]
    }
   ],
   "source": [
    "for i, doc in enumerate(results):\n",
    "    print(f\"\\n --- Result {i+1} ---\")\n",
    "    print(doc.page_content)"
   ]
  },
  {
   "cell_type": "code",
   "execution_count": null,
   "id": "28473873",
   "metadata": {},
   "outputs": [],
   "source": []
  },
  {
   "cell_type": "markdown",
   "id": "96cacb73",
   "metadata": {},
   "source": [
    "# 3.Multi Query Retriever \n",
    "#### - using HF (sentence-transformers/all-MiniLM-L6-v2) model"
   ]
  },
  {
   "cell_type": "code",
   "execution_count": 43,
   "id": "8bb8656a",
   "metadata": {},
   "outputs": [
    {
     "data": {
      "text/plain": [
       "True"
      ]
     },
     "execution_count": 43,
     "metadata": {},
     "output_type": "execute_result"
    }
   ],
   "source": [
    "from langchain_community.vectorstores import FAISS\n",
    "\n",
    "from langchain_huggingface import HuggingFaceEmbeddings, HuggingFaceEndpointEmbeddings\n",
    "# from langchain_huggingface import ChatHuggingFace, HuggingFaceEndpoint\n",
    "\n",
    "from langchain_google_genai import GoogleGenerativeAIEmbeddings\n",
    "from langchain_google_genai import ChatGoogleGenerativeAI\n",
    "# from langchain_openai import OpenAIEmbeddings\n",
    "\n",
    "from langchain.retrievers.multi_query import MultiQueryRetriever\n",
    "from dotenv import load_dotenv\n",
    "load_dotenv()"
   ]
  },
  {
   "cell_type": "code",
   "execution_count": 44,
   "id": "0c36b2ed",
   "metadata": {},
   "outputs": [],
   "source": [
    "# Relevant health & wellness documents\n",
    "all_docs = [\n",
    "    Document(page_content=\"Regular walking boosts heart health and can reduce symptoms of depression.\", metadata={\"source\": \"H1\"}),\n",
    "    Document(page_content=\"Consuming leafy greens and fruits helps detox the body and improve longevity.\", metadata={\"source\": \"H2\"}),\n",
    "    Document(page_content=\"Deep sleep is crucial for cellular repair and emotional regulation.\", metadata={\"source\": \"H3\"}),\n",
    "    Document(page_content=\"Mindfulness and controlled breathing lower cortisol and improve mental clarity.\", metadata={\"source\": \"H4\"}),\n",
    "    Document(page_content=\"Drinking sufficient water throughout the day helps maintain metabolism and energy.\", metadata={\"source\": \"H5\"}),\n",
    "    Document(page_content=\"The solar energy system in modern homes helps balance electricity demand.\", metadata={\"source\": \"I1\"}),\n",
    "    Document(page_content=\"Python balances readability with power, making it a popular system design language.\", metadata={\"source\": \"I2\"}),\n",
    "    Document(page_content=\"Photosynthesis enables plants to produce energy by converting sunlight.\", metadata={\"source\": \"I3\"}),\n",
    "    Document(page_content=\"The 2022 FIFA World Cup was held in Qatar and drew global energy and excitement.\", metadata={\"source\": \"I4\"}),\n",
    "    Document(page_content=\"Black holes bend spacetime and store immense gravitational energy.\", metadata={\"source\": \"I5\"}),\n",
    "]"
   ]
  },
  {
   "cell_type": "code",
   "execution_count": 45,
   "id": "92f34821",
   "metadata": {},
   "outputs": [],
   "source": [
    "# Hugging Face Embeddings\n",
    "embeddings = HuggingFaceEndpointEmbeddings(repo_id=\"sentence-transformers/all-MiniLM-L6-v2\")\n",
    "\n",
    "# Create FAISS vector store\n",
    "vectorstore = FAISS.from_documents(documents=all_docs, embedding=embeddings)"
   ]
  },
  {
   "cell_type": "code",
   "execution_count": null,
   "id": "1041df4c",
   "metadata": {},
   "outputs": [],
   "source": [
    "# Create retrievers (Normal! )\n",
    "similarity_retriever = vectorstore.as_retriever(search_type=\"similarity\", search_kwargs={\"k\":5})"
   ]
  },
  {
   "cell_type": "code",
   "execution_count": 53,
   "id": "aab31751",
   "metadata": {},
   "outputs": [],
   "source": [
    "# Multiquery Retriever \n",
    "# along wiht llm to ask more questions to get more info about query to an llm before find it's vector using retriever\n",
    "mulitquery_retriever = MultiQueryRetriever.from_llm(\n",
    "    retriever=vectorstore.as_retriever(search_kwargs={\"k\":5}), llm=ChatGoogleGenerativeAI(model='gemini-2.0-flash')\n",
    ")"
   ]
  },
  {
   "cell_type": "code",
   "execution_count": 54,
   "id": "62d54c09",
   "metadata": {},
   "outputs": [],
   "source": [
    "# Query\n",
    "query = \"HOw to improve energy levels and maintain balance\""
   ]
  },
  {
   "cell_type": "code",
   "execution_count": 55,
   "id": "72aa347d",
   "metadata": {},
   "outputs": [],
   "source": [
    "# Retriever Results\n",
    "similarity_results = similarity_retriever.invoke(query)\n",
    "mulitquery_results = mulitquery_retriever.invoke(query)"
   ]
  },
  {
   "cell_type": "code",
   "execution_count": 57,
   "id": "d8f59df5",
   "metadata": {},
   "outputs": [
    {
     "name": "stdout",
     "output_type": "stream",
     "text": [
      "\n",
      "--- Result 1 ---\n",
      "Drinking sufficient water throughout the day helps maintain metabolism and energy.\n",
      "\n",
      "--- Result 2 ---\n",
      "The solar energy system in modern homes helps balance electricity demand.\n",
      "\n",
      "--- Result 3 ---\n",
      "Consuming leafy greens and fruits helps detox the body and improve longevity.\n",
      "\n",
      "--- Result 4 ---\n",
      "Mindfulness and controlled breathing lower cortisol and improve mental clarity.\n",
      "\n",
      "--- Result 5 ---\n",
      "Photosynthesis enables plants to produce energy by converting sunlight.\n",
      "******************************************************************************************************************************************************\n",
      "\n",
      "--- Result 1 ---\n",
      "The solar energy system in modern homes helps balance electricity demand.\n",
      "\n",
      "--- Result 2 ---\n",
      "Drinking sufficient water throughout the day helps maintain metabolism and energy.\n",
      "\n",
      "--- Result 3 ---\n",
      "Photosynthesis enables plants to produce energy by converting sunlight.\n",
      "\n",
      "--- Result 4 ---\n",
      "Python balances readability with power, making it a popular system design language.\n",
      "\n",
      "--- Result 5 ---\n",
      "Consuming leafy greens and fruits helps detox the body and improve longevity.\n",
      "\n",
      "--- Result 6 ---\n",
      "Regular walking boosts heart health and can reduce symptoms of depression.\n",
      "\n",
      "--- Result 7 ---\n",
      "Mindfulness and controlled breathing lower cortisol and improve mental clarity.\n",
      "\n",
      "--- Result 8 ---\n",
      "Deep sleep is crucial for cellular repair and emotional regulation.\n"
     ]
    }
   ],
   "source": [
    "for i, doc in enumerate(similarity_results):\n",
    "    print(f\"\\n--- Result {i+1} ---\")\n",
    "    print(doc.page_content)\n",
    "\n",
    "print(\"*\"*150)\n",
    "\n",
    "for i, doc in enumerate(mulitquery_results):\n",
    "    print(f\"\\n--- Result {i+1} ---\")\n",
    "    print(doc.page_content)\n"
   ]
  },
  {
   "cell_type": "markdown",
   "id": "249adeeb",
   "metadata": {},
   "source": [
    "# Contextual Compression Retriever\n",
    "- using Hf embeddings "
   ]
  },
  {
   "cell_type": "code",
   "execution_count": 67,
   "id": "a40a120e",
   "metadata": {},
   "outputs": [
    {
     "data": {
      "text/plain": [
       "True"
      ]
     },
     "execution_count": 67,
     "metadata": {},
     "output_type": "execute_result"
    }
   ],
   "source": [
    "from langchain_community.vectorstores import FAISS\n",
    "from langchain_huggingface import HuggingFaceEmbeddings, HuggingFaceEndpointEmbeddings\n",
    "\n",
    "from langchain_google_genai import ChatGoogleGenerativeAI\n",
    "# from langchain_openai import OpenAIEmbeddings\n",
    "\n",
    "from langchain.retrievers.contextual_compression import ContextualCompressionRetriever\n",
    "from langchain.retrievers.document_compressors import LLMChainExtractor\n",
    "\n",
    "from dotenv import load_dotenv\n",
    "load_dotenv()"
   ]
  },
  {
   "cell_type": "code",
   "execution_count": 68,
   "id": "15fe3b32",
   "metadata": {},
   "outputs": [],
   "source": [
    "# Recreate the document objects from the previous data\n",
    "docs = [\n",
    "    Document(page_content=(\n",
    "        \"\"\"The Grand Canyon is one of the most visited natural wonders in the world.\n",
    "        Photosynthesis is the process by which green plants convert sunlight into energy.\n",
    "        Millions of tourists travel to see it every year. The rocks date back millions of years.\"\"\"\n",
    "    ), metadata={\"source\": \"Doc1\"}),\n",
    "\n",
    "    Document(page_content=(\n",
    "        \"\"\"In medieval Europe, castles were built primarily for defense.\n",
    "        The chlorophyll in plant cells captures sunlight during photosynthesis.\n",
    "        Knights wore armor made of metal. Siege weapons were often used to breach castle walls.\"\"\"\n",
    "    ), metadata={\"source\": \"Doc2\"}),\n",
    "\n",
    "    Document(page_content=(\n",
    "        \"\"\"Basketball was invented by Dr. James Naismith in the late 19th century.\n",
    "        It was originally played with a soccer ball and peach baskets. NBA is now a global league.\"\"\"\n",
    "    ), metadata={\"source\": \"Doc3\"}),\n",
    "\n",
    "    Document(page_content=(\n",
    "        \"\"\"The history of cinema began in the late 1800s. Silent films were the earliest form.\n",
    "        Thomas Edison was among the pioneers. Photosynthesis does not occur in animal cells.\n",
    "        Modern filmmaking involves complex CGI and sound design.\"\"\"\n",
    "    ), metadata={\"source\": \"Doc4\"})\n",
    "]"
   ]
  },
  {
   "cell_type": "code",
   "execution_count": 69,
   "id": "e83ec482",
   "metadata": {},
   "outputs": [],
   "source": [
    "# Create a FAISS vector store from the documents\n",
    "# Hugging Face Embeddings\n",
    "embeddings = HuggingFaceEndpointEmbeddings(repo_id=\"sentence-transformers/all-MiniLM-L6-v2\")\n",
    "\n",
    "# Create FAISS vector store\n",
    "vectorstore = FAISS.from_documents(documents=docs, embedding=embeddings)"
   ]
  },
  {
   "cell_type": "code",
   "execution_count": 70,
   "id": "4524b675",
   "metadata": {},
   "outputs": [],
   "source": [
    "base_retriever = vectorstore.as_retriever(search_kwargs={\"k\":5})"
   ]
  },
  {
   "cell_type": "code",
   "execution_count": 71,
   "id": "55fe4b48",
   "metadata": {},
   "outputs": [],
   "source": [
    "# Setting up the Compressor using LLM\n",
    "llm= ChatGoogleGenerativeAI(model='gemini-1.5-flash')\n",
    "compressor = LLMChainExtractor.from_llm(llm=llm)"
   ]
  },
  {
   "cell_type": "code",
   "execution_count": 73,
   "id": "f8a4a65e",
   "metadata": {},
   "outputs": [],
   "source": [
    "# Creating Contexual Compression (Retriever)\n",
    "compression_retriever=ContextualCompressionRetriever(\n",
    "    base_retriever= base_retriever,\n",
    "    base_compressor=compressor\n",
    ")"
   ]
  },
  {
   "cell_type": "code",
   "execution_count": 74,
   "id": "d44b1cd4",
   "metadata": {},
   "outputs": [],
   "source": [
    "# Query the retriever\n",
    "query = \"what is photosynthesis?\"\n",
    "compressed_results = compression_retriever.invoke(query)"
   ]
  },
  {
   "cell_type": "code",
   "execution_count": 75,
   "id": "311a78a0",
   "metadata": {},
   "outputs": [
    {
     "name": "stdout",
     "output_type": "stream",
     "text": [
      "\n",
      "--- Results 1 ---\n",
      "Photosynthesis is the process by which green plants convert sunlight into energy.\n",
      "\n",
      "--- Results 2 ---\n",
      "The chlorophyll in plant cells captures sunlight during photosynthesis.\n",
      "\n",
      "--- Results 3 ---\n",
      "Photosynthesis does not occur in animal cells.\n"
     ]
    }
   ],
   "source": [
    "for i, doc in enumerate(compressed_results):\n",
    "    print(f\"\\n--- Results {i+1} ---\")\n",
    "    print(doc.page_content)"
   ]
  },
  {
   "cell_type": "code",
   "execution_count": null,
   "id": "1eaf37e5",
   "metadata": {},
   "outputs": [],
   "source": []
  }
 ],
 "metadata": {
  "kernelspec": {
   "display_name": "venv",
   "language": "python",
   "name": "python3"
  },
  "language_info": {
   "codemirror_mode": {
    "name": "ipython",
    "version": 3
   },
   "file_extension": ".py",
   "mimetype": "text/x-python",
   "name": "python",
   "nbconvert_exporter": "python",
   "pygments_lexer": "ipython3",
   "version": "3.11.4"
  }
 },
 "nbformat": 4,
 "nbformat_minor": 5
}
