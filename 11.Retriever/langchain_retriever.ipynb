{
 "cells": [
  {
   "cell_type": "markdown",
   "id": "b738836a",
   "metadata": {},
   "source": [
    "# Simple Retriever"
   ]
  },
  {
   "cell_type": "code",
   "execution_count": 7,
   "id": "fa42404a",
   "metadata": {},
   "outputs": [],
   "source": [
    "from langchain_community.retrievers import WikipediaRetriever"
   ]
  },
  {
   "cell_type": "code",
   "execution_count": 8,
   "id": "094c81af",
   "metadata": {},
   "outputs": [],
   "source": [
    "#Initialize retriever\n",
    "retriever = WikipediaRetriever(top_k_results=2, lang=\"en\")"
   ]
  },
  {
   "cell_type": "code",
   "execution_count": 15,
   "id": "a784f147",
   "metadata": {},
   "outputs": [],
   "source": [
    "# Define query \n",
    "query = \"Garbage in India\" \n",
    "# Get relevant Wikipedia  documents \n",
    "docs = retriever.invoke(query)"
   ]
  },
  {
   "cell_type": "code",
   "execution_count": 17,
   "id": "dada7a01",
   "metadata": {},
   "outputs": [
    {
     "name": "stdout",
     "output_type": "stream",
     "text": [
      "\n",
      "--- Result 1 ---\n",
      "Content: \n",
      "Garbage is a 2018 drama film written and directed by director Qaushiq Mukherjee (Q). Jointly produced by Mukherjee, Shailesh R Singh, Hansal Mehta, Hina Saiyada and Dipankar Chaki, the film stars Trimala Adhikari, Tanmay Dhanania, Shruti Viswan, Satarupa Das and Satchit Puranik in the lead roles. It was premiered in the panorama section at the 68th Berlin International Film Festival. The story follows Phanishwar, a taxi driver in Goa who has held a woman captive in his home. He encounters Rami, a victim of revenge porn and their worlds collide. Garbage became available on Netflix during 2018.\n",
      "\n",
      "\n",
      "== Cast ==\n",
      "\n",
      "Trimala Adhikari as Rami Kumar\n",
      "Tanmay Dhanania as Phanishwar\n",
      "Satarupa Das as Nanaam\n",
      "Satchit Puranik as Baba Satchitanand\n",
      "Shruti Viswan as Arri\n",
      "Gitanjali Dang as Simon\n",
      "\n",
      "\n",
      "== Production ==\n",
      "Director Qaushiq Mukherjee said that Garbage reflected \"the kind of time I was living in for the last two years, personally and social speaking.\" He began writing the script which was initially titled The fucked. He said that several parts of the film were based on real characters and incidents. The taxi driver and the captive girl were \"composites of different people\" while the protagonist was based on his friend who had died in 2017. Mukherjee said that the film was mostly unscripted and \"workshop-driven.\" To prepare for his character, Tanmay worked as a production driver for the team for a month. Mukherjee wrote the script while dealing with the deaths of a few close ones when he said he realised that \"death is the only reality.\"\n",
      "\n",
      "\n",
      "== Reception ==\n",
      "Deborah Young of The Hollywood Reporter wrote: \"For lovers of his angry, dreamy, sexually violent aesthetic, Garbage does not disappoint. Jay Weissberg of Variety called it a \"tiresome torture porn disguised as a femme-empowering revenge thriller.\" Anupam Kant Verma of Firstpost wrote: \"For a film that wants to stand out from the saccharine infested world of Bollywood, Garbage ends up emulating its black and white, good and evil charms.\" Soumya Rao of Scroll.in felt that \"the shock and horror are not just narrative tools but symptoms of the times in which we live.\" She also praised Trimala and Tanmay's performance, calling them \"fearless\".\n",
      "Shubhra Gupta of The Indian Express noted that the film is \"sometimes too in-your-face, the way it takes two young women and a man, flings them into terrible situations, and observes them, pitilessly, trying to negotiate those tough tangles.\" J Hurtado of Screen Anarchy called the film a \"bold, no holds barred attack on the hypocrisy of the religious right wing in India today.\" Further calling it \"too violent, too unafraid, and too real to even be considered as a commercial viability.\" He also included it in his list of 14 Favorite Indian Films of 2018.\n",
      "\n",
      "\n",
      "== References ==\n",
      "\n",
      "\n",
      "== External links ==\n",
      "Garbage at IMDb...\n",
      "\n",
      "--- Result 2 ---\n",
      "Content: \n",
      "The British Raj ( RAHJ; from Hindustani rāj, 'reign', 'rule' or 'government') was the colonial rule of the British Crown on the Indian subcontinent, lasting from 1858 to 1947. It is also called Crown rule in India, or direct rule in India. The region under British control was commonly called India in contemporaneous usage and included areas directly administered by the United Kingdom, which were collectively called British India, and areas ruled by indigenous rulers, but under British paramountcy, called the princely states. The region was sometimes called the Indian Empire, though not officially. As India, it was a founding member of the League of Nations and a founding member of the United Nations in San Francisco in 1945. India was a participating state in the Summer Olympics in 1900, 1920, 1928, 1932, and 1936.\n",
      "This system of governance was instituted on 28 June 1858, when, after the Indian Rebellion of 1857, the rule of the East India Company was transferred to the Crown in the person of Queen Victoria (who, in 1876, was proclaimed Empress of India). It lasted until 1947 when the British Raj was partitioned into two sovereign dominion states: the Union of India (later the Republic of India) and Dominion of Pakistan (later the Islamic Republic of Pakistan and People's Republic of Bangladesh in the 1971 Proclamation of Bangladeshi Independence). At the inception of the Raj in 1858, Lower Burma was already a part of British India; Upper Burma was added in 1886, and the resulting union, Burma, was administered as an autonomous province until 1937, when it became a separate British colony, gaining its independence in 1948. It was renamed Myanmar in 1989. The Chief Commissioner's Province of Aden was also part of British India at the inception of the British Raj and became a separate colony known as Aden Colony in 1937 as well.\n",
      "\n",
      "\n",
      "== Geographical extent ==\n",
      "The British Raj extended over almost all present-day India, Pakistan, Bangladesh and Myanmar, except for small holdings by other European nations such as Goa and Pondicherry. This area is very diverse, containing the Himalayan mountains, fertile floodplains, the Indo-Gangetic Plain, a long coastline, tropical dry forests, arid uplands, and the Thar Desert. In addition, at various times, it included Aden (from 1858 to 1937), Lower Burma (from 1858 to 1937), Upper Burma (from 1886 to 1937), British Somaliland (briefly from 1884 to 1898), and the Straits Settlements (briefly from 1858 to 1867). Burma was separated from India and directly administered by the British Crown from 1937 until its independence in 1948. The Trucial States of the Persian Gulf and the other states under the Persian Gulf Residency were theoretically princely states as well as presidencies and provinces of British India until 1947 and used the rupee as their unit of currency.\n",
      "Among other countries in the region, Ceylon (now Sri Lanka), which was referred to coastal regions and northern part of the island at that time, was ceded to Britain in 1802 under the Treaty of Amiens. These coastal regions were temporarily administered under Madras Presidency between 1793 and 1798, but, for later periods, the British governors reported to London, and it was not part of the Raj. The kingdoms of Nepal and Bhutan, having fought wars with the British, subsequently signed treaties with them and were recognised by the British as independent states. The Kingdom of Sikkim was established as a princely state after the Anglo-Sikkimese Treaty of 1861; however, the issue of sovereignty was left undefined. The Maldive Islands were a British protectorate from 1887 to 1965 but not part of British India.\n",
      "\n",
      "\n",
      "== History ==\n",
      "\n",
      "\n",
      "=== 1858–1868: Rebellion aftermath, critiques, and responses ===\n",
      "\n",
      "Although the Indian Rebellion of 1857 had shaken the British enterprise in India, it had not derailed it. Until 1857, the British, especially under Lord Dalhousie, had been hurriedly building an India which they envisaged to be on par with Britain itse...\n"
     ]
    }
   ],
   "source": [
    "# print retrieved content\n",
    "for i, doc in enumerate(docs): \n",
    "    print(f\"\\n--- Result {i+1} ---\")\n",
    "    print(f\"Content: \\n{doc.page_content}...\") # truncate for display"
   ]
  },
  {
   "cell_type": "code",
   "execution_count": null,
   "id": "6a3e6caa",
   "metadata": {},
   "outputs": [],
   "source": []
  },
  {
   "cell_type": "code",
   "execution_count": null,
   "id": "270d8acd",
   "metadata": {},
   "outputs": [
    {
     "data": {
      "text/plain": [
       "[Document(metadata={'title': 'Garbage (film)', 'summary': 'Garbage is a 2018 drama film written and directed by director Qaushiq Mukherjee (Q). Jointly produced by Mukherjee, Shailesh R Singh, Hansal Mehta, Hina Saiyada and Dipankar Chaki, the film stars Trimala Adhikari, Tanmay Dhanania, Shruti Viswan, Satarupa Das and Satchit Puranik in the lead roles. It was premiered in the panorama section at the 68th Berlin International Film Festival. The story follows Phanishwar, a taxi driver in Goa who has held a woman captive in his home. He encounters Rami, a victim of revenge porn and their worlds collide. Garbage became available on Netflix during 2018.\\n\\n', 'source': 'https://en.wikipedia.org/wiki/Garbage_(film)'}, page_content='Garbage is a 2018 drama film written and directed by director Qaushiq Mukherjee (Q). Jointly produced by Mukherjee, Shailesh R Singh, Hansal Mehta, Hina Saiyada and Dipankar Chaki, the film stars Trimala Adhikari, Tanmay Dhanania, Shruti Viswan, Satarupa Das and Satchit Puranik in the lead roles. It was premiered in the panorama section at the 68th Berlin International Film Festival. The story follows Phanishwar, a taxi driver in Goa who has held a woman captive in his home. He encounters Rami, a victim of revenge porn and their worlds collide. Garbage became available on Netflix during 2018.\\n\\n\\n== Cast ==\\n\\nTrimala Adhikari as Rami Kumar\\nTanmay Dhanania as Phanishwar\\nSatarupa Das as Nanaam\\nSatchit Puranik as Baba Satchitanand\\nShruti Viswan as Arri\\nGitanjali Dang as Simon\\n\\n\\n== Production ==\\nDirector Qaushiq Mukherjee said that Garbage reflected \"the kind of time I was living in for the last two years, personally and social speaking.\" He began writing the script which was initially titled The fucked. He said that several parts of the film were based on real characters and incidents. The taxi driver and the captive girl were \"composites of different people\" while the protagonist was based on his friend who had died in 2017. Mukherjee said that the film was mostly unscripted and \"workshop-driven.\" To prepare for his character, Tanmay worked as a production driver for the team for a month. Mukherjee wrote the script while dealing with the deaths of a few close ones when he said he realised that \"death is the only reality.\"\\n\\n\\n== Reception ==\\nDeborah Young of The Hollywood Reporter wrote: \"For lovers of his angry, dreamy, sexually violent aesthetic, Garbage does not disappoint. Jay Weissberg of Variety called it a \"tiresome torture porn disguised as a femme-empowering revenge thriller.\" Anupam Kant Verma of Firstpost wrote: \"For a film that wants to stand out from the saccharine infested world of Bollywood, Garbage ends up emulating its black and white, good and evil charms.\" Soumya Rao of Scroll.in felt that \"the shock and horror are not just narrative tools but symptoms of the times in which we live.\" She also praised Trimala and Tanmay\\'s performance, calling them \"fearless\".\\nShubhra Gupta of The Indian Express noted that the film is \"sometimes too in-your-face, the way it takes two young women and a man, flings them into terrible situations, and observes them, pitilessly, trying to negotiate those tough tangles.\" J Hurtado of Screen Anarchy called the film a \"bold, no holds barred attack on the hypocrisy of the religious right wing in India today.\" Further calling it \"too violent, too unafraid, and too real to even be considered as a commercial viability.\" He also included it in his list of 14 Favorite Indian Films of 2018.\\n\\n\\n== References ==\\n\\n\\n== External links ==\\nGarbage at IMDb'),\n",
       " Document(metadata={'title': 'British Raj', 'summary': \"The British Raj ( RAHJ; from Hindustani rāj, 'reign', 'rule' or 'government') was the colonial rule of the British Crown on the Indian subcontinent, lasting from 1858 to 1947. It is also called Crown rule in India, or direct rule in India. The region under British control was commonly called India in contemporaneous usage and included areas directly administered by the United Kingdom, which were collectively called British India, and areas ruled by indigenous rulers, but under British paramountcy, called the princely states. The region was sometimes called the Indian Empire, though not officially. As India, it was a founding member of the League of Nations and a founding member of the United Nations in San Francisco in 1945. India was a participating state in the Summer Olympics in 1900, 1920, 1928, 1932, and 1936.\\nThis system of governance was instituted on 28 June 1858, when, after the Indian Rebellion of 1857, the rule of the East India Company was transferred to the Crown in the person of Queen Victoria (who, in 1876, was proclaimed Empress of India). It lasted until 1947 when the British Raj was partitioned into two sovereign dominion states: the Union of India (later the Republic of India) and Dominion of Pakistan (later the Islamic Republic of Pakistan and People's Republic of Bangladesh in the 1971 Proclamation of Bangladeshi Independence). At the inception of the Raj in 1858, Lower Burma was already a part of British India; Upper Burma was added in 1886, and the resulting union, Burma, was administered as an autonomous province until 1937, when it became a separate British colony, gaining its independence in 1948. It was renamed Myanmar in 1989. The Chief Commissioner's Province of Aden was also part of British India at the inception of the British Raj and became a separate colony known as Aden Colony in 1937 as well.\", 'source': 'https://en.wikipedia.org/wiki/British_Raj'}, page_content=\"The British Raj ( RAHJ; from Hindustani rāj, 'reign', 'rule' or 'government') was the colonial rule of the British Crown on the Indian subcontinent, lasting from 1858 to 1947. It is also called Crown rule in India, or direct rule in India. The region under British control was commonly called India in contemporaneous usage and included areas directly administered by the United Kingdom, which were collectively called British India, and areas ruled by indigenous rulers, but under British paramountcy, called the princely states. The region was sometimes called the Indian Empire, though not officially. As India, it was a founding member of the League of Nations and a founding member of the United Nations in San Francisco in 1945. India was a participating state in the Summer Olympics in 1900, 1920, 1928, 1932, and 1936.\\nThis system of governance was instituted on 28 June 1858, when, after the Indian Rebellion of 1857, the rule of the East India Company was transferred to the Crown in the person of Queen Victoria (who, in 1876, was proclaimed Empress of India). It lasted until 1947 when the British Raj was partitioned into two sovereign dominion states: the Union of India (later the Republic of India) and Dominion of Pakistan (later the Islamic Republic of Pakistan and People's Republic of Bangladesh in the 1971 Proclamation of Bangladeshi Independence). At the inception of the Raj in 1858, Lower Burma was already a part of British India; Upper Burma was added in 1886, and the resulting union, Burma, was administered as an autonomous province until 1937, when it became a separate British colony, gaining its independence in 1948. It was renamed Myanmar in 1989. The Chief Commissioner's Province of Aden was also part of British India at the inception of the British Raj and became a separate colony known as Aden Colony in 1937 as well.\\n\\n\\n== Geographical extent ==\\nThe British Raj extended over almost all present-day India, Pakistan, Bangladesh and Myanmar, except for small holdings by other European nations such as Goa and Pondicherry. This area is very diverse, containing the Himalayan mountains, fertile floodplains, the Indo-Gangetic Plain, a long coastline, tropical dry forests, arid uplands, and the Thar Desert. In addition, at various times, it included Aden (from 1858 to 1937), Lower Burma (from 1858 to 1937), Upper Burma (from 1886 to 1937), British Somaliland (briefly from 1884 to 1898), and the Straits Settlements (briefly from 1858 to 1867). Burma was separated from India and directly administered by the British Crown from 1937 until its independence in 1948. The Trucial States of the Persian Gulf and the other states under the Persian Gulf Residency were theoretically princely states as well as presidencies and provinces of British India until 1947 and used the rupee as their unit of currency.\\nAmong other countries in the region, Ceylon (now Sri Lanka), which was referred to coastal regions and northern part of the island at that time, was ceded to Britain in 1802 under the Treaty of Amiens. These coastal regions were temporarily administered under Madras Presidency between 1793 and 1798, but, for later periods, the British governors reported to London, and it was not part of the Raj. The kingdoms of Nepal and Bhutan, having fought wars with the British, subsequently signed treaties with them and were recognised by the British as independent states. The Kingdom of Sikkim was established as a princely state after the Anglo-Sikkimese Treaty of 1861; however, the issue of sovereignty was left undefined. The Maldive Islands were a British protectorate from 1887 to 1965 but not part of British India.\\n\\n\\n== History ==\\n\\n\\n=== 1858–1868: Rebellion aftermath, critiques, and responses ===\\n\\nAlthough the Indian Rebellion of 1857 had shaken the British enterprise in India, it had not derailed it. Until 1857, the British, especially under Lord Dalhousie, had been hurriedly building an India which they envisaged to be on par with Britain itse\")]"
      ]
     },
     "execution_count": 14,
     "metadata": {},
     "output_type": "execute_result"
    }
   ],
   "source": []
  },
  {
   "cell_type": "code",
   "execution_count": null,
   "id": "a772c021",
   "metadata": {},
   "outputs": [],
   "source": []
  }
 ],
 "metadata": {
  "kernelspec": {
   "display_name": "venv",
   "language": "python",
   "name": "python3"
  },
  "language_info": {
   "codemirror_mode": {
    "name": "ipython",
    "version": 3
   },
   "file_extension": ".py",
   "mimetype": "text/x-python",
   "name": "python",
   "nbconvert_exporter": "python",
   "pygments_lexer": "ipython3",
   "version": "3.11.4"
  }
 },
 "nbformat": 4,
 "nbformat_minor": 5
}
