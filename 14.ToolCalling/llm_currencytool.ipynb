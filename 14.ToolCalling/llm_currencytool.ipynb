{
 "cells": [
  {
   "cell_type": "markdown",
   "id": "7b6dbcf7",
   "metadata": {},
   "source": [
    "## Currency Conversion \n",
    "    - using API"
   ]
  },
  {
   "cell_type": "code",
   "execution_count": 1,
   "id": "7ed4659e",
   "metadata": {},
   "outputs": [
    {
     "data": {
      "text/plain": [
       "True"
      ]
     },
     "execution_count": 1,
     "metadata": {},
     "output_type": "execute_result"
    }
   ],
   "source": [
    "from langchain_google_genai import ChatGoogleGenerativeAI\n",
    "from langchain_huggingface import ChatHuggingFace, HuggingFaceEndpoint\n",
    "from langchain_core.tools import tool, InjectedToolArg\n",
    "from typing import Annotated\n",
    "from langchain_core.messages import HumanMessage\n",
    "import requests\n",
    "\n",
    "from dotenv import load_dotenv\n",
    "load_dotenv()"
   ]
  },
  {
   "cell_type": "markdown",
   "id": "7eae1d33",
   "metadata": {},
   "source": [
    "### Tool Creation"
   ]
  },
  {
   "cell_type": "code",
   "execution_count": 12,
   "id": "ba89e6a8",
   "metadata": {},
   "outputs": [],
   "source": [
    "# Tool Create\n",
    "\n",
    "@tool     #1 tool\n",
    "def get_conversion_factor(base_currency: str, target_currency: str) -> float:\n",
    "    \"\"\"\n",
    "    This function fetches currency conversion factor between a give base currency and target currency\n",
    "    \"\"\"\n",
    "\n",
    "    url = f\"https://v6.exchangerate-api.com/v6/d46fd5b48e4b82f8969cf035/pair/{base_currency}/{target_currency}\"\n",
    "\n",
    "    response = requests.get(url)\n",
    "    \n",
    "    return response.json()\n",
    "\n",
    "\n",
    "\n",
    "@tool\n",
    "def convert(base_currency_value: int, conversion_rate: Annotated[float, InjectedToolArg]) -> float:\n",
    "  \"\"\"\n",
    "  given a currency conversion rate this function calculates the target currency value from a given base currency value\n",
    "  \"\"\"\n",
    "\n",
    "  return base_currency_value * conversion_rate"
   ]
  },
  {
   "cell_type": "code",
   "execution_count": 3,
   "id": "b8ed8c27",
   "metadata": {},
   "outputs": [
    {
     "data": {
      "text/plain": [
       "{'result': 'success',\n",
       " 'documentation': 'https://www.exchangerate-api.com/docs',\n",
       " 'terms_of_use': 'https://www.exchangerate-api.com/terms',\n",
       " 'time_last_update_unix': 1756252801,\n",
       " 'time_last_update_utc': 'Wed, 27 Aug 2025 00:00:01 +0000',\n",
       " 'time_next_update_unix': 1756339201,\n",
       " 'time_next_update_utc': 'Thu, 28 Aug 2025 00:00:01 +0000',\n",
       " 'base_code': 'USD',\n",
       " 'target_code': 'INR',\n",
       " 'conversion_rate': 87.6692}"
      ]
     },
     "execution_count": 3,
     "metadata": {},
     "output_type": "execute_result"
    }
   ],
   "source": [
    "# Testing First tool\n",
    "get_conversion_factor.invoke({'base_currency':'USD','target_currency':'INR'})"
   ]
  },
  {
   "cell_type": "code",
   "execution_count": 13,
   "id": "0b60fc41",
   "metadata": {},
   "outputs": [
    {
     "data": {
      "text/plain": [
       "{'base_currency_value': {'title': 'Base Currency Value', 'type': 'integer'},\n",
       " 'conversion_rate': {'title': 'Conversion Rate', 'type': 'number'}}"
      ]
     },
     "execution_count": 13,
     "metadata": {},
     "output_type": "execute_result"
    }
   ],
   "source": [
    "# Checking arguments of the Secong tool\n",
    "convert.args"
   ]
  },
  {
   "cell_type": "code",
   "execution_count": null,
   "id": "2cbb7ba6",
   "metadata": {},
   "outputs": [],
   "source": []
  },
  {
   "cell_type": "code",
   "execution_count": 14,
   "id": "e4fe1dbd",
   "metadata": {},
   "outputs": [
    {
     "data": {
      "text/plain": [
       "876.0509999999999"
      ]
     },
     "execution_count": 14,
     "metadata": {},
     "output_type": "execute_result"
    }
   ],
   "source": [
    "# Testing the second tool (basically it's a function, so just calling a function using .invoke since it's a llm tool now!)\n",
    "convert.invoke({'base_currency_value':10, 'conversion_rate':87.6051})"
   ]
  },
  {
   "cell_type": "markdown",
   "id": "f8d49b0a",
   "metadata": {},
   "source": [
    "### Tool Binding"
   ]
  },
  {
   "cell_type": "code",
   "execution_count": 15,
   "id": "bdf6f547",
   "metadata": {},
   "outputs": [],
   "source": [
    "# tool binding\n",
    "llm = ChatGoogleGenerativeAI(model='gemini-2.5-flash')"
   ]
  },
  {
   "cell_type": "code",
   "execution_count": 16,
   "id": "43e4cb44",
   "metadata": {},
   "outputs": [],
   "source": [
    "llm_with_tools = llm.bind_tools([get_conversion_factor, convert]) # binding all the tools, it's a list we can add remove and define which to use and which to remove!"
   ]
  },
  {
   "cell_type": "code",
   "execution_count": 8,
   "id": "65c20c63",
   "metadata": {},
   "outputs": [],
   "source": [
    "messages = [HumanMessage('What is the conversion factor between USD and INR, and based on that can you convert 10 USD to INR')] # creating a list to store conversion"
   ]
  },
  {
   "cell_type": "code",
   "execution_count": 17,
   "id": "302e3b06",
   "metadata": {},
   "outputs": [
    {
     "data": {
      "text/plain": [
       "[HumanMessage(content='What is the conversion factor between USD and INR, and based on that can you convert 10 USD to INR', additional_kwargs={}, response_metadata={})]"
      ]
     },
     "execution_count": 17,
     "metadata": {},
     "output_type": "execute_result"
    }
   ],
   "source": [
    "messages"
   ]
  },
  {
   "cell_type": "code",
   "execution_count": 18,
   "id": "391a2e12",
   "metadata": {},
   "outputs": [],
   "source": [
    "ai_message = llm_with_tools.invoke(messages) # making AI read and respond to Human message"
   ]
  },
  {
   "cell_type": "code",
   "execution_count": 19,
   "id": "ed9ac3c5",
   "metadata": {},
   "outputs": [
    {
     "data": {
      "text/plain": [
       "[{'name': 'get_conversion_factor',\n",
       "  'args': {'target_currency': 'INR', 'base_currency': 'USD'},\n",
       "  'id': 'd050290d-65c9-4924-b80b-1c49bcdb5d78',\n",
       "  'type': 'tool_call'}]"
      ]
     },
     "execution_count": 19,
     "metadata": {},
     "output_type": "execute_result"
    }
   ],
   "source": [
    "ai_message.tool_calls"
   ]
  },
  {
   "cell_type": "code",
   "execution_count": 20,
   "id": "d9e96ead",
   "metadata": {},
   "outputs": [
    {
     "name": "stdout",
     "output_type": "stream",
     "text": [
      "content='{\"result\": \"success\", \"documentation\": \"https://www.exchangerate-api.com/docs\", \"terms_of_use\": \"https://www.exchangerate-api.com/terms\", \"time_last_update_unix\": 1756252801, \"time_last_update_utc\": \"Wed, 27 Aug 2025 00:00:01 +0000\", \"time_next_update_unix\": 1756339201, \"time_next_update_utc\": \"Thu, 28 Aug 2025 00:00:01 +0000\", \"base_code\": \"USD\", \"target_code\": \"INR\", \"conversion_rate\": 87.6692}' name='get_conversion_factor' tool_call_id='d050290d-65c9-4924-b80b-1c49bcdb5d78'\n"
     ]
    }
   ],
   "source": [
    "for tool_call in ai_message.tool_calls:\n",
    "    # Execute 1st tool and get value of (conversion rate)\n",
    "    if tool_call['name'] == 'get_conversion_factor':\n",
    "        tool_message1 = get_conversion_factor.invoke(tool_call)\n",
    "        print(tool_message1)\n",
    "    # Execute 2nd tool using conversion rate from tool 1\n"
   ]
  },
  {
   "cell_type": "code",
   "execution_count": null,
   "id": "e5a4a57b",
   "metadata": {},
   "outputs": [],
   "source": []
  },
  {
   "cell_type": "code",
   "execution_count": null,
   "id": "8c9886d7",
   "metadata": {},
   "outputs": [],
   "source": []
  }
 ],
 "metadata": {
  "kernelspec": {
   "display_name": "venv",
   "language": "python",
   "name": "python3"
  },
  "language_info": {
   "codemirror_mode": {
    "name": "ipython",
    "version": 3
   },
   "file_extension": ".py",
   "mimetype": "text/x-python",
   "name": "python",
   "nbconvert_exporter": "python",
   "pygments_lexer": "ipython3",
   "version": "3.11.4"
  }
 },
 "nbformat": 4,
 "nbformat_minor": 5
}
