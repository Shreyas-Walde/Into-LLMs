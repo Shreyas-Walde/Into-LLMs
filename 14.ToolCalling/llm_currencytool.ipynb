{
 "cells": [
  {
   "cell_type": "markdown",
   "id": "7b6dbcf7",
   "metadata": {},
   "source": [
    "## Currency Conversion \n",
    "    - using API"
   ]
  },
  {
   "cell_type": "code",
   "execution_count": 2,
   "id": "7ed4659e",
   "metadata": {},
   "outputs": [
    {
     "data": {
      "text/plain": [
       "True"
      ]
     },
     "execution_count": 2,
     "metadata": {},
     "output_type": "execute_result"
    }
   ],
   "source": [
    "from langchain_google_genai import ChatGoogleGenerativeAI\n",
    "# from langchain_huggingface import ChatHuggingFace, HuggingFaceEndpoint\n",
    "# from langchain_core.tools import tool, InjectedToolArg\n",
    "# from typing import Annotated\n",
    "from langchain_core.messages import HumanMessage\n",
    "import requests\n",
    "\n",
    "from dotenv import load_dotenv\n",
    "load_dotenv()"
   ]
  },
  {
   "cell_type": "markdown",
   "id": "7eae1d33",
   "metadata": {},
   "source": [
    "### Tool Creation"
   ]
  },
  {
   "cell_type": "code",
   "execution_count": 3,
   "id": "ba89e6a8",
   "metadata": {},
   "outputs": [],
   "source": [
    "# Tool Create\n",
    "\n",
    "from langchain_core.tools import InjectedToolArg, tool\n",
    "from typing import Annotated\n",
    "\n",
    "@tool #tool1\n",
    "def get_conversion_factor(base_currency: str, target_currency: str) -> float:\n",
    "  \"\"\"\n",
    "  This function fetches the currency conversion factor between a given base currency and a target currency\n",
    "  \"\"\"\n",
    "  url = f'https://v6.exchangerate-api.com/v6/c754eab14ffab33112e380ca/pair/{base_currency}/{target_currency}'\n",
    "\n",
    "  response = requests.get(url)\n",
    "\n",
    "  return response.json()\n",
    "\n",
    "@tool  # tool 2\n",
    "def convert(base_currency_value: int, conversion_rate: Annotated[float, InjectedToolArg]) -> float:\n",
    "  \"\"\"\n",
    "  given a currency conversion rate this function calculates the target currency value from a given base currency value\n",
    "  \"\"\"\n",
    "\n",
    "  return base_currency_value * conversion_rate"
   ]
  },
  {
   "cell_type": "code",
   "execution_count": 4,
   "id": "0b60fc41",
   "metadata": {},
   "outputs": [
    {
     "data": {
      "text/plain": [
       "{'base_currency_value': {'title': 'Base Currency Value', 'type': 'integer'},\n",
       " 'conversion_rate': {'title': 'Conversion Rate', 'type': 'number'}}"
      ]
     },
     "execution_count": 4,
     "metadata": {},
     "output_type": "execute_result"
    }
   ],
   "source": [
    "# Checking arguments of the Secong tool\n",
    "convert.args"
   ]
  },
  {
   "cell_type": "code",
   "execution_count": 5,
   "id": "b8ed8c27",
   "metadata": {},
   "outputs": [
    {
     "data": {
      "text/plain": [
       "{'result': 'success',\n",
       " 'documentation': 'https://www.exchangerate-api.com/docs',\n",
       " 'terms_of_use': 'https://www.exchangerate-api.com/terms',\n",
       " 'time_last_update_unix': 1756252801,\n",
       " 'time_last_update_utc': 'Wed, 27 Aug 2025 00:00:01 +0000',\n",
       " 'time_next_update_unix': 1756339201,\n",
       " 'time_next_update_utc': 'Thu, 28 Aug 2025 00:00:01 +0000',\n",
       " 'base_code': 'USD',\n",
       " 'target_code': 'INR',\n",
       " 'conversion_rate': 87.6692}"
      ]
     },
     "execution_count": 5,
     "metadata": {},
     "output_type": "execute_result"
    }
   ],
   "source": [
    "# Testing First tool\n",
    "get_conversion_factor.invoke({'base_currency':'USD','target_currency':'INR'})"
   ]
  },
  {
   "cell_type": "code",
   "execution_count": 6,
   "id": "e4fe1dbd",
   "metadata": {},
   "outputs": [
    {
     "data": {
      "text/plain": [
       "876.692"
      ]
     },
     "execution_count": 6,
     "metadata": {},
     "output_type": "execute_result"
    }
   ],
   "source": [
    "# Testing the second tool (basically it's a function, so just calling a function using .invoke since it's a llm tool now!)\n",
    "convert.invoke({'base_currency_value':10, 'conversion_rate':87.6692})"
   ]
  },
  {
   "cell_type": "markdown",
   "id": "f8d49b0a",
   "metadata": {},
   "source": [
    "### Tool Binding"
   ]
  },
  {
   "cell_type": "code",
   "execution_count": 7,
   "id": "bdf6f547",
   "metadata": {},
   "outputs": [],
   "source": [
    "# tool binding\n",
    "\n",
    "llm = ChatGoogleGenerativeAI(model='gemini-2.0-flash')"
   ]
  },
  {
   "cell_type": "code",
   "execution_count": 8,
   "id": "43e4cb44",
   "metadata": {},
   "outputs": [],
   "source": [
    "llm_with_tools = llm.bind_tools([get_conversion_factor, convert]) # binding all the tools, it's a list we can add remove and define which to use and which to remove!"
   ]
  },
  {
   "cell_type": "code",
   "execution_count": 9,
   "id": "65c20c63",
   "metadata": {},
   "outputs": [],
   "source": [
    "messages = [HumanMessage('What is the conversion rate between INR and USD, and then convert 10 USD to INR')] # creating a list to store conversion"
   ]
  },
  {
   "cell_type": "code",
   "execution_count": 10,
   "id": "302e3b06",
   "metadata": {},
   "outputs": [
    {
     "data": {
      "text/plain": [
       "[HumanMessage(content='What is the conversion rate between INR and USD, and then convert 10 USD to INR', additional_kwargs={}, response_metadata={})]"
      ]
     },
     "execution_count": 10,
     "metadata": {},
     "output_type": "execute_result"
    }
   ],
   "source": [
    "messages"
   ]
  },
  {
   "cell_type": "code",
   "execution_count": 11,
   "id": "391a2e12",
   "metadata": {},
   "outputs": [
    {
     "name": "stdout",
     "output_type": "stream",
     "text": [
      "[{'name': 'get_conversion_factor', 'args': {'target_currency': 'USD', 'base_currency': 'INR'}, 'id': '91495ec6-f2d0-489c-8286-60fff4413333', 'type': 'tool_call'}, {'name': 'convert', 'args': {'base_currency_value': 10.0}, 'id': '127150d9-84c5-45c2-828f-44642f812e19', 'type': 'tool_call'}]\n"
     ]
    }
   ],
   "source": [
    "ai_message = llm_with_tools.invoke(messages)\n",
    "messages.append(ai_message)\n",
    "print(ai_message.tool_calls) # making AI read and respond to Human message"
   ]
  },
  {
   "cell_type": "code",
   "execution_count": 12,
   "id": "ed9ac3c5",
   "metadata": {},
   "outputs": [
    {
     "data": {
      "text/plain": [
       "[{'name': 'get_conversion_factor',\n",
       "  'args': {'target_currency': 'USD', 'base_currency': 'INR'},\n",
       "  'id': '91495ec6-f2d0-489c-8286-60fff4413333',\n",
       "  'type': 'tool_call'},\n",
       " {'name': 'convert',\n",
       "  'args': {'base_currency_value': 10.0},\n",
       "  'id': '127150d9-84c5-45c2-828f-44642f812e19',\n",
       "  'type': 'tool_call'}]"
      ]
     },
     "execution_count": 12,
     "metadata": {},
     "output_type": "execute_result"
    }
   ],
   "source": [
    "ai_message.tool_calls"
   ]
  },
  {
   "cell_type": "code",
   "execution_count": null,
   "id": "e055b3ae",
   "metadata": {},
   "outputs": [],
   "source": []
  },
  {
   "cell_type": "code",
   "execution_count": null,
   "id": "bc6aba5c",
   "metadata": {},
   "outputs": [
    {
     "name": "stdout",
     "output_type": "stream",
     "text": [
      "[{'name': 'convert', 'args': {'base_currency_value': 10.0}, 'id': '94b25e67-bb1d-40c9-9d91-9eedd6986874', 'type': 'tool_call'}]\n"
     ]
    }
   ],
   "source": []
  },
  {
   "cell_type": "code",
   "execution_count": null,
   "id": "77c95389",
   "metadata": {},
   "outputs": [],
   "source": []
  }
 ],
 "metadata": {
  "kernelspec": {
   "display_name": "venv",
   "language": "python",
   "name": "python3"
  },
  "language_info": {
   "codemirror_mode": {
    "name": "ipython",
    "version": 3
   },
   "file_extension": ".py",
   "mimetype": "text/x-python",
   "name": "python",
   "nbconvert_exporter": "python",
   "pygments_lexer": "ipython3",
   "version": "3.11.4"
  }
 },
 "nbformat": 4,
 "nbformat_minor": 5
}
