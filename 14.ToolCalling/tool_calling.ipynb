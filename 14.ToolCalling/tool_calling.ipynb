{
 "cells": [
  {
   "cell_type": "markdown",
   "id": "6bce1b17",
   "metadata": {},
   "source": [
    "## 1. Tool Creation"
   ]
  },
  {
   "cell_type": "code",
   "execution_count": 1,
   "id": "4782424b",
   "metadata": {},
   "outputs": [],
   "source": [
    "from langchain_google_genai import ChatGoogleGenerativeAI\n",
    "from langchain_core.tools import tool\n",
    "from langchain_core.messages import HumanMessage\n",
    "import requests"
   ]
  },
  {
   "cell_type": "code",
   "execution_count": 2,
   "id": "00a32622",
   "metadata": {},
   "outputs": [],
   "source": [
    "# tool creation\n",
    "\n",
    "@tool # decorator\n",
    "def multiply(a: int, b:int) -> int:\n",
    "    \"\"\"Given two numbers a and b, this tool returns there product\"\"\"\n",
    "    return a * b"
   ]
  },
  {
   "cell_type": "code",
   "execution_count": 3,
   "id": "a7ee5314",
   "metadata": {},
   "outputs": [
    {
     "name": "stdout",
     "output_type": "stream",
     "text": [
      "15\n"
     ]
    }
   ],
   "source": [
    "print(multiply.invoke({\"a\":3, \"b\":5}))"
   ]
  },
  {
   "cell_type": "code",
   "execution_count": 12,
   "id": "0e32487c",
   "metadata": {},
   "outputs": [
    {
     "data": {
      "text/plain": [
       "'multiply'"
      ]
     },
     "execution_count": 12,
     "metadata": {},
     "output_type": "execute_result"
    }
   ],
   "source": [
    "multiply.name "
   ]
  },
  {
   "cell_type": "code",
   "execution_count": 14,
   "id": "62c2a9f1",
   "metadata": {},
   "outputs": [
    {
     "data": {
      "text/plain": [
       "'Given two numbers a and b, this tool returns there product'"
      ]
     },
     "execution_count": 14,
     "metadata": {},
     "output_type": "execute_result"
    }
   ],
   "source": [
    "multiply.description"
   ]
  },
  {
   "cell_type": "code",
   "execution_count": 15,
   "id": "5a595818",
   "metadata": {},
   "outputs": [
    {
     "data": {
      "text/plain": [
       "{'a': {'title': 'A', 'type': 'integer'},\n",
       " 'b': {'title': 'B', 'type': 'integer'}}"
      ]
     },
     "execution_count": 15,
     "metadata": {},
     "output_type": "execute_result"
    }
   ],
   "source": [
    "multiply.args"
   ]
  },
  {
   "cell_type": "markdown",
   "id": "6ae11cad",
   "metadata": {},
   "source": [
    "## 2.Tool Binding"
   ]
  },
  {
   "cell_type": "code",
   "execution_count": 34,
   "id": "b737692d",
   "metadata": {},
   "outputs": [],
   "source": [
    "# Tool Binding! \n",
    "llm = ChatGoogleGenerativeAI(model='gemini-1.5-flash')"
   ]
  },
  {
   "cell_type": "code",
   "execution_count": 35,
   "id": "7f36bd7d",
   "metadata": {},
   "outputs": [],
   "source": [
    "llm_with_tools = llm.bind_tools([multiply])      # It's a list can add more tools \n",
    "# tool binding ^"
   ]
  },
  {
   "cell_type": "markdown",
   "id": "1295b8e0",
   "metadata": {},
   "source": [
    "## 3. Tool Calling"
   ]
  },
  {
   "cell_type": "code",
   "execution_count": 36,
   "id": "3d3043ab",
   "metadata": {},
   "outputs": [
    {
     "data": {
      "text/plain": [
       "AIMessage(content=\"I'm doing well, thank you for asking!  How are you today?\", additional_kwargs={}, response_metadata={'prompt_feedback': {'block_reason': 0, 'safety_ratings': []}, 'finish_reason': 'STOP', 'safety_ratings': []}, id='run--22a0fd3d-100e-4bab-b0d3-91614eb31c37-0', usage_metadata={'input_tokens': 27, 'output_tokens': 18, 'total_tokens': 45, 'input_token_details': {'cache_read': 0}})"
      ]
     },
     "execution_count": 36,
     "metadata": {},
     "output_type": "execute_result"
    }
   ],
   "source": [
    "llm_with_tools.invoke(\"Hell, yeah how are you?\")"
   ]
  },
  {
   "cell_type": "code",
   "execution_count": 77,
   "id": "703dcac0",
   "metadata": {},
   "outputs": [],
   "source": [
    "query = HumanMessage('can you multiply 3 with 1002')"
   ]
  },
  {
   "cell_type": "code",
   "execution_count": 78,
   "id": "81c9695f",
   "metadata": {},
   "outputs": [],
   "source": [
    "messages = [query]"
   ]
  },
  {
   "cell_type": "code",
   "execution_count": 79,
   "id": "33db6870",
   "metadata": {},
   "outputs": [
    {
     "data": {
      "text/plain": [
       "[HumanMessage(content='can you multiply 3 with 1002', additional_kwargs={}, response_metadata={})]"
      ]
     },
     "execution_count": 79,
     "metadata": {},
     "output_type": "execute_result"
    }
   ],
   "source": [
    "messages"
   ]
  },
  {
   "cell_type": "code",
   "execution_count": 80,
   "id": "9e255d47",
   "metadata": {},
   "outputs": [
    {
     "data": {
      "text/plain": [
       "{'name': 'multiply',\n",
       " 'args': {'a': 3.0, 'b': 5.0},\n",
       " 'id': '387dbe34-2f96-44ff-af3f-74721150543a',\n",
       " 'type': 'tool_call'}"
      ]
     },
     "execution_count": 80,
     "metadata": {},
     "output_type": "execute_result"
    }
   ],
   "source": [
    "llm_with_tools.invoke(\"Can you multiply 3 wtih 5?\").tool_calls[0]      # fetching tool calls cause this is an attribute!"
   ]
  },
  {
   "cell_type": "code",
   "execution_count": null,
   "id": "514427c8",
   "metadata": {},
   "outputs": [],
   "source": [
    "# llm advices which tools would be a great option for query, llm doesn't call a tool!\n",
    "# It's either called by Langchain or User(dev)"
   ]
  },
  {
   "cell_type": "markdown",
   "id": "ad45bc6a",
   "metadata": {},
   "source": [
    "# ⚠️Important!!!\n",
    "    - llm advices which tools would be a great option for query, llm doesn't call a tool!\n",
    "    - It's either called by Langchain or User(dev)"
   ]
  },
  {
   "cell_type": "code",
   "execution_count": 82,
   "id": "25c4baf4",
   "metadata": {},
   "outputs": [],
   "source": [
    "result = llm_with_tools.invoke(messages)"
   ]
  },
  {
   "cell_type": "code",
   "execution_count": 83,
   "id": "8f7ff1ce",
   "metadata": {},
   "outputs": [],
   "source": [
    "messages.append(result)"
   ]
  },
  {
   "cell_type": "code",
   "execution_count": 84,
   "id": "21d1731a",
   "metadata": {},
   "outputs": [
    {
     "data": {
      "text/plain": [
       "[HumanMessage(content='can you multiply 3 with 1002', additional_kwargs={}, response_metadata={}),\n",
       " AIMessage(content='', additional_kwargs={'function_call': {'name': 'multiply', 'arguments': '{\"a\": 3.0, \"b\": 1002.0}'}}, response_metadata={'prompt_feedback': {'block_reason': 0, 'safety_ratings': []}, 'finish_reason': 'STOP', 'safety_ratings': []}, id='run--e9ba7c88-e787-4c84-abe8-192857872e55-0', tool_calls=[{'name': 'multiply', 'args': {'a': 3.0, 'b': 1002.0}, 'id': 'f2d54c81-12d1-41cf-9aab-d53d134c6829', 'type': 'tool_call'}], usage_metadata={'input_tokens': 31, 'output_tokens': 5, 'total_tokens': 36, 'input_token_details': {'cache_read': 0}})]"
      ]
     },
     "execution_count": 84,
     "metadata": {},
     "output_type": "execute_result"
    }
   ],
   "source": [
    "messages"
   ]
  },
  {
   "cell_type": "code",
   "execution_count": 85,
   "id": "25e4d37b",
   "metadata": {},
   "outputs": [
    {
     "data": {
      "text/plain": [
       "{'name': 'multiply',\n",
       " 'args': {'a': 3.0, 'b': 1002.0},\n",
       " 'id': 'f2d54c81-12d1-41cf-9aab-d53d134c6829',\n",
       " 'type': 'tool_call'}"
      ]
     },
     "execution_count": 85,
     "metadata": {},
     "output_type": "execute_result"
    }
   ],
   "source": [
    "result.tool_calls[0]"
   ]
  },
  {
   "cell_type": "code",
   "execution_count": 86,
   "id": "eefcaa32",
   "metadata": {},
   "outputs": [
    {
     "data": {
      "text/plain": [
       "ToolMessage(content='3006', name='multiply', tool_call_id='f2d54c81-12d1-41cf-9aab-d53d134c6829')"
      ]
     },
     "execution_count": 86,
     "metadata": {},
     "output_type": "execute_result"
    }
   ],
   "source": [
    "multiply.invoke(result.tool_calls[0])"
   ]
  },
  {
   "cell_type": "code",
   "execution_count": 87,
   "id": "0e90a9f3",
   "metadata": {},
   "outputs": [],
   "source": [
    "tool_result = multiply.invoke(result.tool_calls[0]) # tool execution  also type of message"
   ]
  },
  {
   "cell_type": "code",
   "execution_count": 88,
   "id": "b28c8e84",
   "metadata": {},
   "outputs": [],
   "source": [
    "messages.append(tool_result) \n",
    "# humanMessage, AIMessage and Now ToolMessage"
   ]
  },
  {
   "cell_type": "code",
   "execution_count": 89,
   "id": "b0288459",
   "metadata": {},
   "outputs": [
    {
     "data": {
      "text/plain": [
       "[HumanMessage(content='can you multiply 3 with 1002', additional_kwargs={}, response_metadata={}),\n",
       " AIMessage(content='', additional_kwargs={'function_call': {'name': 'multiply', 'arguments': '{\"a\": 3.0, \"b\": 1002.0}'}}, response_metadata={'prompt_feedback': {'block_reason': 0, 'safety_ratings': []}, 'finish_reason': 'STOP', 'safety_ratings': []}, id='run--e9ba7c88-e787-4c84-abe8-192857872e55-0', tool_calls=[{'name': 'multiply', 'args': {'a': 3.0, 'b': 1002.0}, 'id': 'f2d54c81-12d1-41cf-9aab-d53d134c6829', 'type': 'tool_call'}], usage_metadata={'input_tokens': 31, 'output_tokens': 5, 'total_tokens': 36, 'input_token_details': {'cache_read': 0}}),\n",
       " ToolMessage(content='3006', name='multiply', tool_call_id='f2d54c81-12d1-41cf-9aab-d53d134c6829')]"
      ]
     },
     "execution_count": 89,
     "metadata": {},
     "output_type": "execute_result"
    }
   ],
   "source": [
    "messages"
   ]
  },
  {
   "cell_type": "markdown",
   "id": "de39de0a",
   "metadata": {},
   "source": [
    "    - above we made and stored an conversation history!"
   ]
  },
  {
   "cell_type": "code",
   "execution_count": 90,
   "id": "d6bb3f69",
   "metadata": {},
   "outputs": [
    {
     "data": {
      "text/plain": [
       "'3 multiplied by 1002 is 3006.'"
      ]
     },
     "execution_count": 90,
     "metadata": {},
     "output_type": "execute_result"
    }
   ],
   "source": [
    "llm_with_tools.invoke(messages).content"
   ]
  },
  {
   "cell_type": "code",
   "execution_count": null,
   "id": "312256ce",
   "metadata": {},
   "outputs": [],
   "source": []
  }
 ],
 "metadata": {
  "kernelspec": {
   "display_name": "venv",
   "language": "python",
   "name": "python3"
  },
  "language_info": {
   "codemirror_mode": {
    "name": "ipython",
    "version": 3
   },
   "file_extension": ".py",
   "mimetype": "text/x-python",
   "name": "python",
   "nbconvert_exporter": "python",
   "pygments_lexer": "ipython3",
   "version": "3.11.4"
  }
 },
 "nbformat": 4,
 "nbformat_minor": 5
}
