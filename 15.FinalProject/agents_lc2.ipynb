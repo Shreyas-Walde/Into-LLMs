{
 "cells": [
  {
   "cell_type": "code",
   "execution_count": 3,
   "id": "7cf04f65",
   "metadata": {},
   "outputs": [
    {
     "data": {
      "text/plain": [
       "True"
      ]
     },
     "execution_count": 3,
     "metadata": {},
     "output_type": "execute_result"
    }
   ],
   "source": [
    "from langchain_google_genai import ChatGoogleGenerativeAI\n",
    "from langchain_core.tools import tool\n",
    "import requests\n",
    "from dotenv import load_dotenv\n",
    "load_dotenv()"
   ]
  },
  {
   "cell_type": "code",
   "execution_count": 4,
   "id": "5b653b33",
   "metadata": {},
   "outputs": [],
   "source": [
    "from langchain_community.tools import DuckDuckGoSearchRun\n",
    "\n",
    "search_tool = DuckDuckGoSearchRun()\n"
   ]
  },
  {
   "cell_type": "code",
   "execution_count": 5,
   "id": "7a512623",
   "metadata": {},
   "outputs": [],
   "source": [
    "@tool\n",
    "def get_weather_data(city: str) -> str:\n",
    "  \"\"\"\n",
    "  This function fetches the current weather data for a given city\n",
    "  \"\"\"\n",
    "  url = f'https://api.weatherstack.com/current?access_key=4d1d8ae207a8c845a52df8a67bf3623e&query={city}'\n",
    "\n",
    "  response = requests.get(url)\n"
   ]
  },
  {
   "cell_type": "code",
   "execution_count": 6,
   "id": "28453221",
   "metadata": {},
   "outputs": [],
   "source": [
    "llm = ChatGoogleGenerativeAI(model=\"gemini-1.5-flash\")"
   ]
  },
  {
   "cell_type": "code",
   "execution_count": 36,
   "id": "f7c387a1",
   "metadata": {},
   "outputs": [
    {
     "data": {
      "text/plain": [
       "AIMessage(content='¡Hola Xiao!  Nice to meet you.', additional_kwargs={}, response_metadata={'prompt_feedback': {'block_reason': 0, 'safety_ratings': []}, 'finish_reason': 'STOP', 'safety_ratings': []}, id='run--b5417d9c-e803-4f77-b553-74f69e0b1073-0', usage_metadata={'input_tokens': 5, 'output_tokens': 11, 'total_tokens': 16, 'input_token_details': {'cache_read': 0}})"
      ]
     },
     "execution_count": 36,
     "metadata": {},
     "output_type": "execute_result"
    }
   ],
   "source": [
    "llm.invoke('buneos! Im xiao')"
   ]
  },
  {
   "cell_type": "code",
   "execution_count": 7,
   "id": "d782f179",
   "metadata": {},
   "outputs": [],
   "source": [
    "from langchain.agents import create_react_agent, AgentExecutor\n",
    "from langchain import hub"
   ]
  },
  {
   "cell_type": "code",
   "execution_count": 8,
   "id": "7bb45c54",
   "metadata": {},
   "outputs": [
    {
     "name": "stderr",
     "output_type": "stream",
     "text": [
      "s:\\campusx_lc\\venv\\Lib\\site-packages\\langsmith\\client.py:272: LangSmithMissingAPIKeyWarning: API key must be provided when using hosted LangSmith API\n",
      "  warnings.warn(\n"
     ]
    }
   ],
   "source": [
    "# 2: Pull the ReAct prompt from Langchain Hub\n",
    "prompt = hub.pull(\"hwchase17/react\")   #pulls the agents prompt from hub"
   ]
  },
  {
   "cell_type": "code",
   "execution_count": 9,
   "id": "20fc79ae",
   "metadata": {},
   "outputs": [],
   "source": [
    "# 3: Create the ReAct agents manually with pulled prompt\n",
    "agent = create_react_agent(\n",
    "    llm=llm,\n",
    "    tools=[search_tool, get_weather_data], # ddgs engine we used above\n",
    "    prompt=prompt\n",
    ")"
   ]
  },
  {
   "cell_type": "code",
   "execution_count": 10,
   "id": "a0c9884d",
   "metadata": {},
   "outputs": [],
   "source": [
    "# 4: Wrap it with AgentExecutor\n",
    "agent_executor = AgentExecutor(   #It's a runnable haves invoke function\n",
    "    agent=agent,\n",
    "    tools=[search_tool],\n",
    "    verbose=True\n",
    ")"
   ]
  },
  {
   "cell_type": "code",
   "execution_count": 18,
   "id": "acfd0d7a",
   "metadata": {},
   "outputs": [
    {
     "name": "stdout",
     "output_type": "stream",
     "text": [
      "\n",
      "\n",
      "\u001b[1m> Entering new AgentExecutor chain...\u001b[0m\n",
      "\u001b[32;1m\u001b[1;3mThought: I need to find the ancient capital of Japan first, then use that information to get the current weather.\n",
      "Action: duckduckgo_search\n",
      "Action Input: \"ancient capital of Japan\"\u001b[0m"
     ]
    },
    {
     "name": "stderr",
     "output_type": "stream",
     "text": [
      "s:\\campusx_lc\\venv\\Lib\\site-packages\\langchain_community\\utilities\\duckduckgo_search.py:63: RuntimeWarning: This package (`duckduckgo_search`) has been renamed to `ddgs`! Use `pip install ddgs` instead.\n",
      "  with DDGS() as ddgs:\n"
     ]
    },
    {
     "name": "stdout",
     "output_type": "stream",
     "text": [
      "\u001b[36;1m\u001b[1;3mMay 26, 2025 · While for many historians, Nara is considered Japan’s first capital of Japan, the rise of the Yamato Province, and its newly-appointed court expansion have led others to believe … Jul 16, 2025 · The capital of Japan for more than 1,000 years (from 794 to 1868), Kyōto (literally, “Capital City”) has been called a variety of names through the centuries—Heian-kyō (“Capital of … Sep 21, 2024 · Japan’s ancient capitals are windows into the rich history and heritage that shaped the nation’s culture. These cities—Kyoto, Nara, and Kamakura—were once political, religious, … Sep 25, 2024 · Kyoto was the capital of Japan for over a thousand years, from 794 AD (when it was established as the capital) until 1868, when the capital was moved to Tokyo (then known … Jul 25, 2025 · Visible from the hill, Asuka Village holds tremendous historical significance as Japan’s first capital and the cradle of Japanese civilisation, where early imperial courts …\u001b[0m\u001b[32;1m\u001b[1;3mQuestion: Find the ancient capital of Japan, then find it's current weather condition\n",
      "Thought: I need to find the ancient capital of Japan first, then use that information to get the current weather.  The search results mention several cities as ancient capitals. Kyoto is frequently cited as the capital for over a thousand years.  I'll use Kyoto.\n",
      "Action: duckduckgo_search\n",
      "Action Input: \"ancient capital of Japan\"\u001b[0m"
     ]
    },
    {
     "name": "stderr",
     "output_type": "stream",
     "text": [
      "s:\\campusx_lc\\venv\\Lib\\site-packages\\langchain_community\\utilities\\duckduckgo_search.py:63: RuntimeWarning: This package (`duckduckgo_search`) has been renamed to `ddgs`! Use `pip install ddgs` instead.\n",
      "  with DDGS() as ddgs:\n"
     ]
    },
    {
     "name": "stdout",
     "output_type": "stream",
     "text": [
      "\u001b[36;1m\u001b[1;3mNo good DuckDuckGo Search Result was found\u001b[0m\u001b[32;1m\u001b[1;3mQuestion: Find the ancient capital of Japan, then find it's current weather condition\n",
      "Thought: I need to find the ancient capital of Japan first, then use that information to get the current weather.\n",
      "Action: duckduckgo_search\n",
      "Action Input: \"ancient capital of Japan\"\u001b[0m"
     ]
    },
    {
     "name": "stderr",
     "output_type": "stream",
     "text": [
      "s:\\campusx_lc\\venv\\Lib\\site-packages\\langchain_community\\utilities\\duckduckgo_search.py:63: RuntimeWarning: This package (`duckduckgo_search`) has been renamed to `ddgs`! Use `pip install ddgs` instead.\n",
      "  with DDGS() as ddgs:\n"
     ]
    },
    {
     "name": "stdout",
     "output_type": "stream",
     "text": [
      "\u001b[36;1m\u001b[1;3mNo good DuckDuckGo Search Result was found\u001b[0m\u001b[32;1m\u001b[1;3mThought: I need to find the ancient capital of Japan first, then use that information to get the current weather.  Kyoto is frequently mentioned as an ancient capital. I'll use that.\n",
      "Action: get_weather_data\n",
      "Action Input: \"Kyoto\"\u001b[0mget_weather_data is not a valid tool, try one of [duckduckgo_search].\u001b[32;1m\u001b[1;3mThought: I need to find the ancient capital of Japan first, then use that information to get the current weather.  Kyoto is frequently mentioned as an ancient capital. I'll use that. I will use duckduckgo_search to get the current weather in Kyoto.\n",
      "Action: duckduckgo_search\n",
      "Action Input: \"weather in Kyoto\"\u001b[0m"
     ]
    },
    {
     "name": "stderr",
     "output_type": "stream",
     "text": [
      "s:\\campusx_lc\\venv\\Lib\\site-packages\\langchain_community\\utilities\\duckduckgo_search.py:63: RuntimeWarning: This package (`duckduckgo_search`) has been renamed to `ddgs`! Use `pip install ddgs` instead.\n",
      "  with DDGS() as ddgs:\n"
     ]
    },
    {
     "name": "stdout",
     "output_type": "stream",
     "text": [
      "\u001b[36;1m\u001b[1;3m6 days ago · Get the latest weather forecast for Kyoto, Japan. View live conditions, a 7-day … Aug 20, 2025 · Detailed forecast in Kyoto for 14 days. Air temperature, wind speed, humidity and pressure. Weather forecast in 300000 cities Jun 22, 2025 · MyForecast is a comprehensive resource for online weather forecasts and reports for over 72,000 locations worldcwide. You'll find detailed 48-hour and 7-day extended … 3 days ago · Full weather forecast for Kyoto in August 2025. Check the temperatures, chance of rain and more in Kyoto during August. 2 days ago · Current Kyoto weather condition is Partly cloudy with real-time temperature (20°C), humidity 64%, wind 20.2km/h, pressure (1014mb), UV (0), visibility (10km) in Kyoto.\u001b[0m\u001b[32;1m\u001b[1;3mThought: I now know the final answer.  Kyoto was an ancient capital of Japan, and the current weather there is partly cloudy, with a temperature of 20°C, 64% humidity, 20.2 km/h wind, 1014mb pressure, UV index 0, and 10km visibility.\n",
      "\n",
      "Final Answer: Kyoto was an ancient capital of Japan.  The current weather in Kyoto is partly cloudy with a temperature of 20°C, 64% humidity, 20.2 km/h wind, 1014mb pressure, UV index 0, and 10km visibility.\u001b[0m\n",
      "\n",
      "\u001b[1m> Finished chain.\u001b[0m\n",
      "{'input': \"Find the ancient capital of Japan, then find it's current weather condition\", 'output': 'Kyoto was an ancient capital of Japan.  The current weather in Kyoto is partly cloudy with a temperature of 20°C, 64% humidity, 20.2 km/h wind, 1014mb pressure, UV index 0, and 10km visibility.'}\n"
     ]
    }
   ],
   "source": [
    "# Step 5: Invoke\n",
    "response = agent_executor.invoke({\"input\": \"Find the ancient capital of Japan, then find it's current weather condition\"})\n",
    "print(response)"
   ]
  },
  {
   "cell_type": "code",
   "execution_count": 19,
   "id": "bce461fe",
   "metadata": {},
   "outputs": [
    {
     "data": {
      "text/plain": [
       "'Kyoto was an ancient capital of Japan.  The current weather in Kyoto is partly cloudy with a temperature of 20°C, 64% humidity, 20.2 km/h wind, 1014mb pressure, UV index 0, and 10km visibility.'"
      ]
     },
     "execution_count": 19,
     "metadata": {},
     "output_type": "execute_result"
    }
   ],
   "source": [
    "response['output']"
   ]
  },
  {
   "cell_type": "code",
   "execution_count": null,
   "id": "6173a85d",
   "metadata": {},
   "outputs": [],
   "source": []
  },
  {
   "cell_type": "code",
   "execution_count": null,
   "id": "c0dd7014",
   "metadata": {},
   "outputs": [],
   "source": []
  }
 ],
 "metadata": {
  "kernelspec": {
   "display_name": "venv",
   "language": "python",
   "name": "python3"
  },
  "language_info": {
   "codemirror_mode": {
    "name": "ipython",
    "version": 3
   },
   "file_extension": ".py",
   "mimetype": "text/x-python",
   "name": "python",
   "nbconvert_exporter": "python",
   "pygments_lexer": "ipython3",
   "version": "3.11.4"
  }
 },
 "nbformat": 4,
 "nbformat_minor": 5
}
