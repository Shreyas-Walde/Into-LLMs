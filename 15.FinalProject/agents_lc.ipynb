{
 "cells": [
  {
   "cell_type": "code",
   "execution_count": 33,
   "id": "7cf04f65",
   "metadata": {},
   "outputs": [
    {
     "data": {
      "text/plain": [
       "True"
      ]
     },
     "execution_count": 33,
     "metadata": {},
     "output_type": "execute_result"
    }
   ],
   "source": [
    "from langchain_google_genai import ChatGoogleGenerativeAI\n",
    "from langchain_core.tools import tool\n",
    "import requests\n",
    "from dotenv import load_dotenv\n",
    "load_dotenv()"
   ]
  },
  {
   "cell_type": "code",
   "execution_count": 34,
   "id": "5b653b33",
   "metadata": {},
   "outputs": [
    {
     "name": "stderr",
     "output_type": "stream",
     "text": [
      "s:\\campusx_lc\\venv\\Lib\\site-packages\\langchain_community\\utilities\\duckduckgo_search.py:63: RuntimeWarning: This package (`duckduckgo_search`) has been renamed to `ddgs`! Use `pip install ddgs` instead.\n",
      "  with DDGS() as ddgs:\n"
     ]
    },
    {
     "data": {
      "text/plain": [
       "\"Japanese public broadcaster provides the latest breaking news, live video, analysis and features from Asia and around the … 2 days ago · Live news, breaking news, investigations, politics, business, society, sports, culture, ramen, food, travel, … 2 days ago · Yamaguchi, a two-time world champion, saw off Indonesia's Putri Kusuma Wardani 21-17, 14-21, 21-6 in the … 4 days ago · Reuters.com is your online source for the latest Japan news stories and current events, ensuring our readers up … 3 days ago · The English version offers selected articles from the vernacular Asahi Shimbun, as well as extensive coverage …\""
      ]
     },
     "execution_count": 34,
     "metadata": {},
     "output_type": "execute_result"
    }
   ],
   "source": [
    "from langchain_community.tools import DuckDuckGoSearchRun\n",
    "\n",
    "search_tool = DuckDuckGoSearchRun()\n",
    "results = search_tool.run('top news in japan today')  #use run instead of invoke in tools.\n",
    "results"
   ]
  },
  {
   "cell_type": "code",
   "execution_count": 35,
   "id": "28453221",
   "metadata": {},
   "outputs": [],
   "source": [
    "llm = ChatGoogleGenerativeAI(model=\"gemini-1.5-flash\")"
   ]
  },
  {
   "cell_type": "code",
   "execution_count": 36,
   "id": "f7c387a1",
   "metadata": {},
   "outputs": [
    {
     "data": {
      "text/plain": [
       "AIMessage(content='¡Hola Xiao!  Nice to meet you.', additional_kwargs={}, response_metadata={'prompt_feedback': {'block_reason': 0, 'safety_ratings': []}, 'finish_reason': 'STOP', 'safety_ratings': []}, id='run--b5417d9c-e803-4f77-b553-74f69e0b1073-0', usage_metadata={'input_tokens': 5, 'output_tokens': 11, 'total_tokens': 16, 'input_token_details': {'cache_read': 0}})"
      ]
     },
     "execution_count": 36,
     "metadata": {},
     "output_type": "execute_result"
    }
   ],
   "source": [
    "llm.invoke('buneos! Im xiao')"
   ]
  },
  {
   "cell_type": "code",
   "execution_count": 37,
   "id": "d782f179",
   "metadata": {},
   "outputs": [],
   "source": [
    "from langchain.agents import create_react_agent, AgentExecutor\n",
    "from langchain import hub"
   ]
  },
  {
   "cell_type": "code",
   "execution_count": 38,
   "id": "7bb45c54",
   "metadata": {},
   "outputs": [
    {
     "name": "stderr",
     "output_type": "stream",
     "text": [
      "s:\\campusx_lc\\venv\\Lib\\site-packages\\langsmith\\client.py:272: LangSmithMissingAPIKeyWarning: API key must be provided when using hosted LangSmith API\n",
      "  warnings.warn(\n"
     ]
    }
   ],
   "source": [
    "# 2: Pull the ReAct prompt from Langchain Hub\n",
    "prompt = hub.pull(\"hwchase17/react\")   #pulls the agents prompt from hub"
   ]
  },
  {
   "cell_type": "code",
   "execution_count": 39,
   "id": "20fc79ae",
   "metadata": {},
   "outputs": [],
   "source": [
    "# 3: Create the ReAct agents manually with pulled prompt\n",
    "agent = create_react_agent(\n",
    "    llm=llm,\n",
    "    tools=[search_tool], # ddgs engine we used above\n",
    "    prompt=prompt\n",
    ")"
   ]
  },
  {
   "cell_type": "code",
   "execution_count": 40,
   "id": "a0c9884d",
   "metadata": {},
   "outputs": [],
   "source": [
    "# 4: Wrap it with AgentExecutor\n",
    "agent_executor = AgentExecutor(   #It's a runnable haves invoke function\n",
    "    agent=agent,\n",
    "    tools=[search_tool],\n",
    "    verbose=True\n",
    ")"
   ]
  },
  {
   "cell_type": "code",
   "execution_count": 42,
   "id": "acfd0d7a",
   "metadata": {},
   "outputs": [
    {
     "name": "stdout",
     "output_type": "stream",
     "text": [
      "\n",
      "\n",
      "\u001b[1m> Entering new AgentExecutor chain...\u001b[0m\n",
      "\u001b[32;1m\u001b[1;3mThought: I need to find three ways to travel from Tokyo to Okinawa.  I can use a search engine for this.\n",
      "\n",
      "Action: duckduckgo_search\n",
      "Action Input: \"3 ways to travel from Tokyo to Okinawa\"\u001b[0m"
     ]
    },
    {
     "name": "stderr",
     "output_type": "stream",
     "text": [
      "s:\\campusx_lc\\venv\\Lib\\site-packages\\langchain_community\\utilities\\duckduckgo_search.py:63: RuntimeWarning: This package (`duckduckgo_search`) has been renamed to `ddgs`! Use `pip install ddgs` instead.\n",
      "  with DDGS() as ddgs:\n"
     ]
    },
    {
     "name": "stdout",
     "output_type": "stream",
     "text": [
      "\u001b[36;1m\u001b[1;3m3 (three) is a number, numeral and digit. It is the natural number following 2 and preceding 4, and is the smallest odd … Directed by - Aishwarya DhanushProduced by - Kasthuri RajaStarring - Dhanush & Shruti HaasanMusic by - Anirudh … Learn about Android’s best features and find your perfect smartphone. Meet the next generation of AI glasses. The Ray-Ban … Three is the first odd prime number, and the second smallest prime. It is both the first Fermat prime (2 2º + 1) and the first … The number 3 is a very mystical and spiritual number featured in many folktales (three wishes, three guesses, three little …\u001b[0m\u001b[32;1m\u001b[1;3mThought: That DuckDuckGo search result was irrelevant. I need to try a different search query.\n",
      "\n",
      "Action: duckduckgo_search\n",
      "Action Input: \"how to travel from Tokyo to Okinawa\"\u001b[0m"
     ]
    },
    {
     "name": "stderr",
     "output_type": "stream",
     "text": [
      "s:\\campusx_lc\\venv\\Lib\\site-packages\\langchain_community\\utilities\\duckduckgo_search.py:63: RuntimeWarning: This package (`duckduckgo_search`) has been renamed to `ddgs`! Use `pip install ddgs` instead.\n",
      "  with DDGS() as ddgs:\n"
     ]
    },
    {
     "name": "stdout",
     "output_type": "stream",
     "text": [
      "\u001b[36;1m\u001b[1;3mJul 8, 2025 · Discover the best ways to travel from Tokyo, Osaka, and other parts of mainland Japan to Okinawa in 2025. Compare flights, ferries, costs, durations, and get insider travel tips. Feb 3, 2025 · This article features the best ways to travel from Tokyo to Okinawa comparing the travel time and prices between airplane, Shinkansen (bullet train), ferry, and rental car travel. Jun 27, 2025 · To get from Naha to northern Okinawa, take the Okinawa Expressway, which extends from Naha to the northern city of Nago (tolls are about 1000 yen one way). Public … Apr 24, 2025 · Flying is the most common and fastest way to travel from Tokyo to Okinawa, with a flight duration of about 2.5 to 3 hours. Several airlines operate this route, including Japan … May 15, 2025 · Flight deals from Okinawa to Tokyo Looking for a cheap last-minute deal or the best return flight from Okinawa to Tokyo? Find the lowest prices on one-way and return tickets …\u001b[0m\u001b[32;1m\u001b[1;3mThought:The search results provide information on traveling from Tokyo to Okinawa.  I can extract three methods from the text.\n",
      "\n",
      "Thought: I now know the final answer\n",
      "Final Answer: Three ways to reach Okinawa from Tokyo are by airplane (the fastest), ferry (a slower but potentially scenic option), and possibly by driving (though this would involve a ferry crossing and significant travel time).  The provided text focuses heavily on air travel, but implies the other options exist.\u001b[0m\n",
      "\n",
      "\u001b[1m> Finished chain.\u001b[0m\n",
      "{'input': '3 ways to reach to okinawa from tokyo', 'output': 'Three ways to reach Okinawa from Tokyo are by airplane (the fastest), ferry (a slower but potentially scenic option), and possibly by driving (though this would involve a ferry crossing and significant travel time).  The provided text focuses heavily on air travel, but implies the other options exist.'}\n"
     ]
    }
   ],
   "source": [
    "# 5: Invoke\n",
    "response = agent_executor.invoke({\"input\":\"3 ways to reach to okinawa from tokyo\"})\n",
    "print(response)"
   ]
  },
  {
   "cell_type": "code",
   "execution_count": 43,
   "id": "bce461fe",
   "metadata": {},
   "outputs": [
    {
     "data": {
      "text/plain": [
       "'Three ways to reach Okinawa from Tokyo are by airplane (the fastest), ferry (a slower but potentially scenic option), and possibly by driving (though this would involve a ferry crossing and significant travel time).  The provided text focuses heavily on air travel, but implies the other options exist.'"
      ]
     },
     "execution_count": 43,
     "metadata": {},
     "output_type": "execute_result"
    }
   ],
   "source": [
    "response['output']"
   ]
  },
  {
   "cell_type": "code",
   "execution_count": null,
   "id": "6173a85d",
   "metadata": {},
   "outputs": [],
   "source": []
  },
  {
   "cell_type": "code",
   "execution_count": null,
   "id": "c0dd7014",
   "metadata": {},
   "outputs": [],
   "source": []
  }
 ],
 "metadata": {
  "kernelspec": {
   "display_name": "venv",
   "language": "python",
   "name": "python3"
  },
  "language_info": {
   "codemirror_mode": {
    "name": "ipython",
    "version": 3
   },
   "file_extension": ".py",
   "mimetype": "text/x-python",
   "name": "python",
   "nbconvert_exporter": "python",
   "pygments_lexer": "ipython3",
   "version": "3.11.4"
  }
 },
 "nbformat": 4,
 "nbformat_minor": 5
}
